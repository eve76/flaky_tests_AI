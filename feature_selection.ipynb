{
 "cells": [
  {
   "cell_type": "code",
   "execution_count": 1,
   "metadata": {},
   "outputs": [],
   "source": [
    "import pandas as pd \n",
    "import numpy as np\n",
    "import time\n",
    "import re\n",
    "from sklearn.feature_extraction.text import CountVectorizer\n",
    "import pickle\n",
    "from sklearn.ensemble import RandomForestClassifier\n",
    "from sklearn.neighbors import KNeighborsClassifier\n",
    "from sklearn.linear_model import LogisticRegression, Perceptron\n",
    "from sklearn.tree import DecisionTreeClassifier\n",
    "from sklearn.metrics import f1_score, confusion_matrix\n",
    "from sklearn.model_selection import train_test_split\n",
    "from sklearn.naive_bayes import GaussianNB\n",
    "from sklearn.discriminant_analysis import LinearDiscriminantAnalysis\n",
    "from sklearn.model_selection import learning_curve\n",
    "from sklearn.metrics import classification_report, roc_auc_score, matthews_corrcoef\n",
    "from sklearn.metrics import ConfusionMatrixDisplay\n",
    "from sklearn.svm import LinearSVC,SVR\n",
    "from sklearn.feature_selection import RFECV\n",
    "from sklearn.calibration import CalibratedClassifierCV\n",
    "from sklearn.preprocessing import Binarizer\n",
    "import matplotlib.pyplot as plt\n",
    "from sklearn.calibration import calibration_curve"
   ]
  },
  {
   "cell_type": "code",
   "execution_count": 2,
   "metadata": {},
   "outputs": [],
   "source": [
    "df = pd.read_csv('./java_projects.csv')\n",
    "# y = data.label.copy()\n",
    "# df = data.drop('label', axis=1)\n",
    "# projects_lst = list(df.groupby('project name').keys)"
   ]
  },
  {
   "cell_type": "code",
   "execution_count": 3,
   "metadata": {},
   "outputs": [
    {
     "data": {
      "text/plain": [
       "['https://github.com/Alluxio/alluxio',\n",
       " 'https://github.com/hector-client/hector',\n",
       " 'https://github.com/qos-ch/logback',\n",
       " 'https://github.com/apache/ambari',\n",
       " 'https://github.com/wildfly/wildfly',\n",
       " 'https://github.com/apache/incubator-dubbo,',\n",
       " 'https://github.com/Activiti/Activiti',\n",
       " 'https://github.com/yinjihuan/elastic-job-lite',\n",
       " 'https://github.com/apache/hbase',\n",
       " 'https://github.com/spring-projects/spring-boot',\n",
       " 'https://github.com/square/okhttp',\n",
       " 'https://github.com/joel-costigliola/assertj-core',\n",
       " 'https://github.com/abel533/Mapper',\n",
       " 'https://github.com/wro4j/wro4j',\n",
       " 'https://github.com/apache/httpcomponents-core',\n",
       " 'https://github.com/kevinsawicki/http-request',\n",
       " 'https://github.com/TooTallNate/Java-WebSocket',\n",
       " 'https://github.com/alibaba/nacos',\n",
       " 'https://github.com/orbit/orbit',\n",
       " 'https://github.com/alibaba/jetcache',\n",
       " 'https://github.com/undertow-io/undertow']"
      ]
     },
     "execution_count": 3,
     "metadata": {},
     "output_type": "execute_result"
    }
   ],
   "source": [
    "list(set(df.groupby('project name').groups))"
   ]
  },
  {
   "cell_type": "code",
   "execution_count": 4,
   "metadata": {},
   "outputs": [],
   "source": [
    "project_list = ['https://github.com/Activiti/Activiti',\n",
    " 'https://github.com/abel533/Mapper',\n",
    " 'https://github.com/apache/ambari',\n",
    " 'https://github.com/joel-costigliola/assertj-core',\n",
    " 'https://github.com/apache/hbase',\n",
    " 'https://github.com/square/okhttp',\n",
    " 'https://github.com/spring-projects/spring-boot',\n",
    " 'https://github.com/Alluxio/alluxio']"
   ]
  },
  {
   "cell_type": "code",
   "execution_count": 5,
   "metadata": {},
   "outputs": [],
   "source": [
    "def feature_ranking (X, y): \n",
    "\n",
    "    estimator = SVR(kernel=\"linear\")\n",
    "    selector = RFECV(estimator, step=5, cv=5, n_jobs=4)\n",
    "\n",
    "    selector = selector.fit(X, y)\n",
    "\n",
    "    return selector.ranking_,selector.score\n",
    "\n",
    "\n",
    "def feature_importance(x, y):\n",
    "    \n",
    "    train_scaler = Binarizer(threshold=0.0,).fit(x_train)\n",
    "    test_scaler = Binarizer(threshold=0.0).fit(x_test)\n",
    "    x_train_norm = train_scaler.transform(x_train)\n",
    "    x_test_norm = test_scaler.transform(x_test)\n",
    "    estimator = RandomForestClassifier()\n",
    "    estimator.fit(x, y)\n",
    "    importance = estimator.feature_importances_\n",
    "    \n",
    "    return importance"
   ]
  },
  {
   "cell_type": "code",
   "execution_count": 6,
   "metadata": {},
   "outputs": [
    {
     "name": "stderr",
     "output_type": "stream",
     "text": [
      "/var/folders/j_/1cs9lf4j1kz9fp5yv7yl4wfr0000gs/T/ipykernel_83131/3541801680.py:6: SettingWithCopyWarning: \n",
      "A value is trying to be set on a copy of a slice from a DataFrame\n",
      "\n",
      "See the caveats in the documentation: https://pandas.pydata.org/pandas-docs/stable/user_guide/indexing.html#returning-a-view-versus-a-copy\n",
      "  project_df.drop('project name', axis=1, inplace=True)\n",
      "/var/folders/j_/1cs9lf4j1kz9fp5yv7yl4wfr0000gs/T/ipykernel_83131/3541801680.py:8: SettingWithCopyWarning: \n",
      "A value is trying to be set on a copy of a slice from a DataFrame\n",
      "\n",
      "See the caveats in the documentation: https://pandas.pydata.org/pandas-docs/stable/user_guide/indexing.html#returning-a-view-versus-a-copy\n",
      "  project_df.drop('label', axis=1, inplace=True)\n"
     ]
    },
    {
     "name": "stderr",
     "output_type": "stream",
     "text": [
      "/var/folders/j_/1cs9lf4j1kz9fp5yv7yl4wfr0000gs/T/ipykernel_83131/3541801680.py:6: SettingWithCopyWarning: \n",
      "A value is trying to be set on a copy of a slice from a DataFrame\n",
      "\n",
      "See the caveats in the documentation: https://pandas.pydata.org/pandas-docs/stable/user_guide/indexing.html#returning-a-view-versus-a-copy\n",
      "  project_df.drop('project name', axis=1, inplace=True)\n",
      "/var/folders/j_/1cs9lf4j1kz9fp5yv7yl4wfr0000gs/T/ipykernel_83131/3541801680.py:8: SettingWithCopyWarning: \n",
      "A value is trying to be set on a copy of a slice from a DataFrame\n",
      "\n",
      "See the caveats in the documentation: https://pandas.pydata.org/pandas-docs/stable/user_guide/indexing.html#returning-a-view-versus-a-copy\n",
      "  project_df.drop('label', axis=1, inplace=True)\n",
      "/var/folders/j_/1cs9lf4j1kz9fp5yv7yl4wfr0000gs/T/ipykernel_83131/3541801680.py:6: SettingWithCopyWarning: \n",
      "A value is trying to be set on a copy of a slice from a DataFrame\n",
      "\n",
      "See the caveats in the documentation: https://pandas.pydata.org/pandas-docs/stable/user_guide/indexing.html#returning-a-view-versus-a-copy\n",
      "  project_df.drop('project name', axis=1, inplace=True)\n",
      "/var/folders/j_/1cs9lf4j1kz9fp5yv7yl4wfr0000gs/T/ipykernel_83131/3541801680.py:8: SettingWithCopyWarning: \n",
      "A value is trying to be set on a copy of a slice from a DataFrame\n",
      "\n",
      "See the caveats in the documentation: https://pandas.pydata.org/pandas-docs/stable/user_guide/indexing.html#returning-a-view-versus-a-copy\n",
      "  project_df.drop('label', axis=1, inplace=True)\n",
      "/var/folders/j_/1cs9lf4j1kz9fp5yv7yl4wfr0000gs/T/ipykernel_83131/3541801680.py:6: SettingWithCopyWarning: \n",
      "A value is trying to be set on a copy of a slice from a DataFrame\n",
      "\n",
      "See the caveats in the documentation: https://pandas.pydata.org/pandas-docs/stable/user_guide/indexing.html#returning-a-view-versus-a-copy\n",
      "  project_df.drop('project name', axis=1, inplace=True)\n",
      "/var/folders/j_/1cs9lf4j1kz9fp5yv7yl4wfr0000gs/T/ipykernel_83131/3541801680.py:8: SettingWithCopyWarning: \n",
      "A value is trying to be set on a copy of a slice from a DataFrame\n",
      "\n",
      "See the caveats in the documentation: https://pandas.pydata.org/pandas-docs/stable/user_guide/indexing.html#returning-a-view-versus-a-copy\n",
      "  project_df.drop('label', axis=1, inplace=True)\n",
      "/var/folders/j_/1cs9lf4j1kz9fp5yv7yl4wfr0000gs/T/ipykernel_83131/3541801680.py:6: SettingWithCopyWarning: \n",
      "A value is trying to be set on a copy of a slice from a DataFrame\n",
      "\n",
      "See the caveats in the documentation: https://pandas.pydata.org/pandas-docs/stable/user_guide/indexing.html#returning-a-view-versus-a-copy\n",
      "  project_df.drop('project name', axis=1, inplace=True)\n",
      "/var/folders/j_/1cs9lf4j1kz9fp5yv7yl4wfr0000gs/T/ipykernel_83131/3541801680.py:8: SettingWithCopyWarning: \n",
      "A value is trying to be set on a copy of a slice from a DataFrame\n",
      "\n",
      "See the caveats in the documentation: https://pandas.pydata.org/pandas-docs/stable/user_guide/indexing.html#returning-a-view-versus-a-copy\n",
      "  project_df.drop('label', axis=1, inplace=True)\n",
      "/var/folders/j_/1cs9lf4j1kz9fp5yv7yl4wfr0000gs/T/ipykernel_83131/3541801680.py:6: SettingWithCopyWarning: \n",
      "A value is trying to be set on a copy of a slice from a DataFrame\n",
      "\n",
      "See the caveats in the documentation: https://pandas.pydata.org/pandas-docs/stable/user_guide/indexing.html#returning-a-view-versus-a-copy\n",
      "  project_df.drop('project name', axis=1, inplace=True)\n",
      "/var/folders/j_/1cs9lf4j1kz9fp5yv7yl4wfr0000gs/T/ipykernel_83131/3541801680.py:8: SettingWithCopyWarning: \n",
      "A value is trying to be set on a copy of a slice from a DataFrame\n",
      "\n",
      "See the caveats in the documentation: https://pandas.pydata.org/pandas-docs/stable/user_guide/indexing.html#returning-a-view-versus-a-copy\n",
      "  project_df.drop('label', axis=1, inplace=True)\n",
      "/var/folders/j_/1cs9lf4j1kz9fp5yv7yl4wfr0000gs/T/ipykernel_83131/3541801680.py:6: SettingWithCopyWarning: \n",
      "A value is trying to be set on a copy of a slice from a DataFrame\n",
      "\n",
      "See the caveats in the documentation: https://pandas.pydata.org/pandas-docs/stable/user_guide/indexing.html#returning-a-view-versus-a-copy\n",
      "  project_df.drop('project name', axis=1, inplace=True)\n",
      "/var/folders/j_/1cs9lf4j1kz9fp5yv7yl4wfr0000gs/T/ipykernel_83131/3541801680.py:8: SettingWithCopyWarning: \n",
      "A value is trying to be set on a copy of a slice from a DataFrame\n",
      "\n",
      "See the caveats in the documentation: https://pandas.pydata.org/pandas-docs/stable/user_guide/indexing.html#returning-a-view-versus-a-copy\n",
      "  project_df.drop('label', axis=1, inplace=True)\n",
      "/var/folders/j_/1cs9lf4j1kz9fp5yv7yl4wfr0000gs/T/ipykernel_83131/3541801680.py:6: SettingWithCopyWarning: \n",
      "A value is trying to be set on a copy of a slice from a DataFrame\n",
      "\n",
      "See the caveats in the documentation: https://pandas.pydata.org/pandas-docs/stable/user_guide/indexing.html#returning-a-view-versus-a-copy\n",
      "  project_df.drop('project name', axis=1, inplace=True)\n",
      "/var/folders/j_/1cs9lf4j1kz9fp5yv7yl4wfr0000gs/T/ipykernel_83131/3541801680.py:8: SettingWithCopyWarning: \n",
      "A value is trying to be set on a copy of a slice from a DataFrame\n",
      "\n",
      "See the caveats in the documentation: https://pandas.pydata.org/pandas-docs/stable/user_guide/indexing.html#returning-a-view-versus-a-copy\n",
      "  project_df.drop('label', axis=1, inplace=True)\n"
     ]
    }
   ],
   "source": [
    "for project in project_list:\n",
    "    ranks = []\n",
    "    scores = [] \n",
    "    \n",
    "    project_df = df[df['project name'] == project]\n",
    "    project_df.drop('project name', axis=1, inplace=True)\n",
    "    y = project_df.label.copy()\n",
    "    project_df.drop('label', axis=1, inplace=True)\n",
    "    x = project_df\n",
    "    x_train, x_test, y_train, y_test = train_test_split(x, y, test_size=0.20, random_state=1)\n",
    "    y_train[y_train == 'Flaky'] = 1\n",
    "    y_train[y_train == 'NonFlaky'] = 0\n",
    "    rank, score = feature_ranking(x_train, y_train)\n",
    "    ranks.append(rank)\n",
    "    scores.append(score)\n",
    "    \n",
    "    "
   ]
  },
  {
   "cell_type": "code",
   "execution_count": null,
   "metadata": {},
   "outputs": [],
   "source": []
  }
 ],
 "metadata": {
  "kernelspec": {
   "display_name": "ENV",
   "language": "python",
   "name": "python3"
  },
  "language_info": {
   "codemirror_mode": {
    "name": "ipython",
    "version": 3
   },
   "file_extension": ".py",
   "mimetype": "text/x-python",
   "name": "python",
   "nbconvert_exporter": "python",
   "pygments_lexer": "ipython3",
   "version": "3.11.6"
  }
 },
 "nbformat": 4,
 "nbformat_minor": 2
}
