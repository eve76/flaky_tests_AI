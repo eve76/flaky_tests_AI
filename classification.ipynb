{
 "cells": [
  {
   "cell_type": "code",
   "execution_count": 113,
   "metadata": {},
   "outputs": [],
   "source": [
    "import pandas as pd \n",
    "import numpy as np\n",
    "import time\n",
    "import re\n",
    "from sklearn.feature_extraction.text import CountVectorizer\n",
    "import pickle\n",
    "from sklearn.ensemble import RandomForestClassifier\n",
    "from sklearn.neighbors import KNeighborsClassifier\n",
    "from sklearn.linear_model import LogisticRegression, Perceptron\n",
    "from sklearn.tree import DecisionTreeClassifier\n",
    "from sklearn.metrics import f1_score, confusion_matrix\n",
    "from sklearn.model_selection import train_test_split, cross_val_score, cross_val_predict\n",
    "from sklearn.naive_bayes import GaussianNB\n",
    "from sklearn.discriminant_analysis import LinearDiscriminantAnalysis\n",
    "from sklearn.model_selection import learning_curve\n",
    "from sklearn.metrics import classification_report, roc_auc_score, matthews_corrcoef\n",
    "from sklearn.metrics import ConfusionMatrixDisplay\n",
    "from sklearn.svm import LinearSVC,SVR\n",
    "from sklearn.feature_selection import RFECV\n",
    "from sklearn.calibration import CalibratedClassifierCV\n",
    "from sklearn.preprocessing import Binarizer\n",
    "import matplotlib.pyplot as plt\n",
    "from pylab import xticks, yticks\n",
    "from sklearn.calibration import calibration_curve\n"
   ]
  },
  {
   "cell_type": "code",
   "execution_count": 114,
   "metadata": {},
   "outputs": [],
   "source": [
    "import warnings\n",
    "warnings.filterwarnings('ignore')"
   ]
  },
  {
   "cell_type": "code",
   "execution_count": 115,
   "metadata": {},
   "outputs": [],
   "source": [
    "# some utils functions\n",
    "\n",
    "## filter words from texts\n",
    "def clean_words(text):\n",
    "    res = re.findall(r'\\b\\w+\\b', text)\n",
    "    return res\n",
    "\n",
    "## remove stopwords (some words are meaningless in classification, like function, test)\n",
    "def remove_stopwords(text):\n",
    "    text = str(text).lower().strip()\n",
    "    tokens = []\n",
    "    for token in text:\n",
    "        if token not in stop_words:\n",
    "            tokens.append(token)\n",
    "            \n",
    "    return \"\".join(tokens)\n",
    "\n",
    "def remove_comments(text):\n",
    "    no_comments = re.sub(r'#.*', '', text)\n",
    "    no_comments = re.sub(r'/\\*.*\\/\\*', '', no_comments)\n",
    "    no_comments = re.sub(r'\\d+','',no_comments)\n",
    "    no_comments = re.sub(r'_', ' ', no_comments)\n",
    "    return no_comments\n",
    "\n",
    "def remove_cammel(text):\n",
    "    no_cammel = re.sub('([A-Z][a-z]+)', r' \\1', re.sub('([A-Z]+)', r' \\1', text)).lower().split()\n",
    "    return no_cammel"
   ]
  },
  {
   "cell_type": "code",
   "execution_count": 116,
   "metadata": {},
   "outputs": [],
   "source": [
    "\n",
    "stop_words = ['main', 'new', 'subtest','mock','test','public','void','init', 'class', 'name', 'com', 'is', 'prepare',\\\n",
    "    'it', 'cn', 'com', 'runtests', 'testing', 'fuc','tests', 'atomic','ca','bs', 'dc','this', 'on', 'std', 'flaky', 'we',\\\n",
    "    'auto', 'it', 'to','def', 'self', 'base', 'left', 'hello', 'block', 'cli', 'all', 'from', 'import', 'id', 'result', \\\n",
    "    'run', 'cmd','mock','xd', 'yoda','country', 'class', 'out', 'this', 'on', 'std', 'flaky', 'we', 'auto','size', 'not', 'by', \\\n",
    "    'be','activejobs','back']\n",
    "\n",
    "# describe the classifiers and parameters\n",
    "classifiers = {\n",
    "    'randomForest': RandomForestClassifier(random_state=1),\n",
    "    'decisionTree': DecisionTreeClassifier(min_samples_leaf=1),\n",
    "    'naiveBayes': GaussianNB(),\n",
    "    'smo': CalibratedClassifierCV(LinearSVC(fit_intercept=False, tol=0.001, C=1, dual=False, max_iter=100000), method='sigmoid'),\n",
    "    'knn': KNeighborsClassifier(n_neighbors=1, metric='euclidean'),\n",
    "    'logisticRegression': LogisticRegression(max_iter=1000),\n",
    "    'perceptron': CalibratedClassifierCV(Perceptron()),\n",
    "    'lda': LinearDiscriminantAnalysis(),\n",
    "}\n",
    "\n",
    "## cross validation classification\n",
    "def classify_with_cv(classifiers,x, y, random_state=123, cv = None, shuffle=True, normalize=[]):\n",
    "    \n",
    "    labels = ['Flaky', 'NonFlaky']\n",
    "    results = pd.DataFrame()\n",
    "    \n",
    "    scaler = Binarizer(threshold=0.0,).fit(x)\n",
    "    x_norm = scaler.transform(x)\n",
    "    \n",
    "    for key, classifier in classifiers.items():\n",
    "        if (key in normalize):\n",
    "            x = x_norm\n",
    "         \n",
    "        # classifier.fit(x_train, y_train)\n",
    "        # classifier.score(x_test, y_test)\n",
    "        score = cross_val_score(classifier, x, y, cv = cv, scoring='accuracy')\n",
    "        predict = cross_val_predict(classifier, x, y, cv=cv, method='predict')\n",
    "        # y_probs = classifier.predict_proba(x_test)[:,1]\n",
    "        \n",
    "        result = {\n",
    "                'classifier': key,\n",
    "                'f1score': f1_score(y, predict, average='weighted'),\n",
    "                'accuracy': np.mean(score),\n",
    "                'confusionMatrix': confusion_matrix(y, predict),\n",
    "                # 'execution': round_float(get_time(start_time)),\n",
    "                'classificationReport': classification_report(y, predict, output_dict=True),\n",
    "                # 'AUC': roc_auc_score(y_test, y_probs),\n",
    "                'MCC': matthews_corrcoef(y, predict),\n",
    "                \n",
    "            }\n",
    "            # results = pd.concat([results, result], ignore_index=True)\n",
    "        print( result)\n",
    "        print('\\n')\n",
    "        results = results._append(result, ignore_index=True)\n",
    "        \n",
    "        \n",
    "    return results\n",
    "\n",
    "### feature importance selection\n",
    "def feature_importance(x, y):\n",
    "    \n",
    "    estimator = RandomForestClassifier(random_state=123)\n",
    "    estimator.fit(x, y)\n",
    "    importance = estimator.feature_importances_\n",
    "    \n",
    "    return importance\n"
   ]
  },
  {
   "cell_type": "code",
   "execution_count": 117,
   "metadata": {},
   "outputs": [],
   "source": [
    "### load data\n",
    "\n",
    "data = pd.read_excel('./flaky_data.xlsx')\n",
    "df = pd.DataFrame(data, columns=['Language', 'project name', 'test case name', 'label','test case content', 'tokens'])\n",
    "\n",
    "# drop columns \"project name\" and \"test case name\"\n",
    "df.drop('project name', axis=1, inplace=True)\n",
    "df.drop('test case name', axis=1, inplace=True)"
   ]
  },
  {
   "cell_type": "code",
   "execution_count": 118,
   "metadata": {},
   "outputs": [],
   "source": [
    "### preprocessing of test case content\n",
    "\n",
    "df['test case content'] = df['test case content'].apply(lambda x: remove_comments(x))\n",
    "df['test case content'] = df['test case content'].apply(lambda x: remove_cammel(x))\n",
    "\n",
    "\n",
    "### create a tokens column for the processed text\n",
    "\n",
    "df['tokens'] = df['test case content']"
   ]
  },
  {
   "cell_type": "code",
   "execution_count": 119,
   "metadata": {},
   "outputs": [],
   "source": [
    "### init tokenizer and fit \n",
    "\n",
    "tokenizer = CountVectorizer(analyzer='word', max_features=1500,stop_words=stop_words)\n",
    "\n",
    "    \n",
    "df.tokens = df.tokens.apply(lambda x: remove_stopwords(x))\n",
    "bow_token = tokenizer.fit_transform(df.tokens)\n",
    "\n",
    "bow_data = pd.DataFrame(bow_token.toarray(), columns=tokenizer.get_feature_names_out())\n"
   ]
  },
  {
   "cell_type": "code",
   "execution_count": 120,
   "metadata": {},
   "outputs": [],
   "source": [
    "y = df.label.copy()\n",
    "df = pd.concat([df, bow_data], axis=1)\n",
    "df.label = y"
   ]
  },
  {
   "cell_type": "code",
   "execution_count": 121,
   "metadata": {},
   "outputs": [],
   "source": [
    "### filter the dataset according to languages\n",
    "\n",
    "java_df = df[df['Language'] == 'Java']\n",
    "python_df = df[df['Language'] == 'Python']\n",
    "go_df = df[df['Language'] == 'go']\n",
    "cpp_df = df[df['Language'] == 'C++']\n",
    "js_df = df[df['Language'] == 'JS']"
   ]
  },
  {
   "cell_type": "code",
   "execution_count": 122,
   "metadata": {},
   "outputs": [],
   "source": [
    "java_js_df = df[df['Language'].isin(['Java', 'JS'])]\n",
    "java_py_cpp = df[df['Language'].isin(['Java', 'Python', 'C++'])]\n",
    "no_java = df[~df['Language'].isin(['Java'])]"
   ]
  },
  {
   "cell_type": "code",
   "execution_count": 123,
   "metadata": {},
   "outputs": [],
   "source": [
    "\n",
    "java_y = java_df.iloc[:, 1:2]\n",
    "java_x = java_df.drop(columns=['Language', 'label','label', 'test case content', 'tokens'])\n",
    "\n",
    "python_y = python_df.iloc[:, 1:2]\n",
    "python_x = python_df.drop(['Language', 'label', 'label','test case content', 'tokens'], axis=1)\n",
    "\n",
    "cpp_y = cpp_df.iloc[:, 1:2]\n",
    "cpp_x = cpp_df.drop(['Language', 'label', 'label','test case content', 'tokens'], axis=1)\n",
    "\n",
    "go_y = go_df.iloc[:, 1:2]\n",
    "go_x = go_df.drop(['Language', 'label', 'label','test case content', 'tokens'], axis=1)\n",
    "\n",
    "js_y = js_df.iloc[:, 1:2]\n",
    "js_x = js_df.drop(['Language', 'label', 'label','test case content', 'tokens'], axis=1)\n",
    "\n",
    "java_js_y = java_js_df.iloc[:, 1:2]\n",
    "java_js_x = java_js_df.drop(columns=['Language', 'label','label', 'test case content', 'tokens'])\n",
    "\n",
    "java_py_cpp_y = java_py_cpp.iloc[:, 1:2]\n",
    "java_py_cpp_x = java_py_cpp.drop(columns=['Language', 'label','label', 'test case content', 'tokens'])\n",
    "\n",
    "no_java_y = no_java.iloc[:, 1:2]\n",
    "no_java_x = no_java.drop(columns=['Language', 'label','label', 'test case content', 'tokens'])\n",
    "\n",
    "all_y = df.iloc[:, 1:2]\n",
    "all_x = df.drop(columns=['Language', 'label','label', 'test case content', 'tokens'])"
   ]
  },
  {
   "cell_type": "code",
   "execution_count": 124,
   "metadata": {},
   "outputs": [
    {
     "name": "stdout",
     "output_type": "stream",
     "text": [
      "The top 20 features in Projects are:\n",
      " Index(['throws', 'exception', 'should', 'io', 'error', 'assert', 'resource',\n",
      "       'for', 'get', 'equal', 'int', 'session', 'description', 'output',\n",
      "       'expect', 'close', 'factory', 'url', 'inode', 'byte'],\n",
      "      dtype='object')\n"
     ]
    }
   ],
   "source": [
    "java_importance = feature_importance(java_x, java_y)\n",
    "print(\"The top 20 features in Projects are:\\n\", java_x.columns[np.argsort(-java_importance)[:20]])"
   ]
  },
  {
   "cell_type": "code",
   "execution_count": 125,
   "metadata": {},
   "outputs": [
    {
     "name": "stdout",
     "output_type": "stream",
     "text": [
      "The top 20 features in Projects are:\n",
      " Index(['throws', 'exception', 'should', 'io', 'error', 'assert', 'resource',\n",
      "       'for', 'get', 'equal', 'int', 'session', 'description', 'output',\n",
      "       'expect', 'close', 'factory', 'url', 'inode', 'byte'],\n",
      "      dtype='object')\n"
     ]
    }
   ],
   "source": [
    "java_importance = feature_importance(java_x, java_y)\n",
    "print(\"The top 20 features in Projects are:\\n\", java_x.columns[np.argsort(-java_importance)[:20]])"
   ]
  },
  {
   "cell_type": "code",
   "execution_count": 126,
   "metadata": {},
   "outputs": [
    {
     "name": "stdout",
     "output_type": "stream",
     "text": [
      "The top 20 features in Projects are: \n",
      " Index(['model', 'msgs', 'true', 'app', 'flask', 'check', 'err', 'config',\n",
      "       'instance', 'batch', 'equal', 'https', 'models', 'benchmark', 'dict',\n",
      "       'false', 'with', 'expected', 'assert', 'multi'],\n",
      "      dtype='object')\n"
     ]
    }
   ],
   "source": [
    "python_importance = feature_importance(python_x, python_y)\n",
    "print(\"The top 20 features in Projects are: \\n\", python_x.columns[np.argsort(-python_importance)[:20]])"
   ]
  },
  {
   "cell_type": "code",
   "execution_count": 127,
   "metadata": {},
   "outputs": [
    {
     "name": "stdout",
     "output_type": "stream",
     "text": [
      "The top 20 features in Projects are: \n",
      " Index(['case', 'check', 'string', 'expect', 'and', 'int', 'asset', 'disabled',\n",
      "       'float', 'time', 'op', 'data', 'return', 'for', 'milliseconds', 'make',\n",
      "       'require', 'in', 'wait', 'manager'],\n",
      "      dtype='object')\n"
     ]
    }
   ],
   "source": [
    "cpp_importance = feature_importance(cpp_x, cpp_y)\n",
    "print(\"The top 20 features in Projects are: \\n\", cpp_x.columns[np.argsort(-cpp_importance)[:20]])"
   ]
  },
  {
   "cell_type": "code",
   "execution_count": 128,
   "metadata": {},
   "outputs": [
    {
     "name": "stdout",
     "output_type": "stream",
     "text": [
      "The top 20 features in Projects are: \n",
      " Index(['func', 'assert', 'pod', 'fake', 'file', 'string', 'sleep', 'poll',\n",
      "       'true', 'timeout', 'clock', 'if', 'time', 'no', 'client', 'err',\n",
      "       'esbuild', 'null', 'nil', 'error'],\n",
      "      dtype='object')\n"
     ]
    }
   ],
   "source": [
    "go_importance = feature_importance(go_x, go_y)\n",
    "print(\"The top 20 features in Projects are: \\n\", go_x.columns[np.argsort(-go_importance)[:20]])"
   ]
  },
  {
   "cell_type": "code",
   "execution_count": 129,
   "metadata": {},
   "outputs": [
    {
     "name": "stdout",
     "output_type": "stream",
     "text": [
      "The top 20 features in Projects are: \n",
      " Index(['throws', 'exception', 'should', 'io', 'error', 'assert', 'resource',\n",
      "       'for', 'get', 'equal', 'int', 'session', 'description', 'output',\n",
      "       'expect', 'close', 'factory', 'url', 'inode', 'byte'],\n",
      "      dtype='object')\n"
     ]
    }
   ],
   "source": [
    "java_js_importance = feature_importance(java_js_x, java_js_y)\n",
    "print(\"The top 20 features in Projects are: \\n\", java_js_x.columns[np.argsort(-java_importance)[:20]])"
   ]
  },
  {
   "cell_type": "code",
   "execution_count": 130,
   "metadata": {},
   "outputs": [
    {
     "name": "stdout",
     "output_type": "stream",
     "text": [
      "The top 20 features in Projects are: \n",
      " Index(['throws', 'should', 'exception', 'io', 'error', 'client', 'resource',\n",
      "       'for', 'output', 'close', 'that', 'get', 'description', 'thrown',\n",
      "       'message', 'equal', 'assert', 'string', 'inode', 'int'],\n",
      "      dtype='object')\n"
     ]
    }
   ],
   "source": [
    "java_py_cpp_importance = feature_importance(java_py_cpp_x, java_py_cpp_y)\n",
    "print(\"The top 20 features in Projects are: \\n\", java_py_cpp_x.columns[np.argsort(-java_py_cpp_importance)[:20]])"
   ]
  },
  {
   "cell_type": "code",
   "execution_count": 131,
   "metadata": {},
   "outputs": [
    {
     "name": "stdout",
     "output_type": "stream",
     "text": [
      "The top 20 features in Projects are: \n",
      " Index(['string', 'case', 'check', 'client', 'err', 'func', 'unit', 'true',\n",
      "       'equal', 'false', 'text', 'function', 'instance', 'flask', 'files',\n",
      "       'assert', 'context', 'app', 'append', 'model'],\n",
      "      dtype='object')\n"
     ]
    }
   ],
   "source": [
    "no_java_importance = feature_importance(no_java_x, no_java_y)\n",
    "print(\"The top 20 features in Projects are: \\n\", no_java_x.columns[np.argsort(-no_java_importance)[:20]])"
   ]
  },
  {
   "cell_type": "code",
   "execution_count": 132,
   "metadata": {},
   "outputs": [
    {
     "name": "stdout",
     "output_type": "stream",
     "text": [
      "The top 20 features in Projects are: \n",
      " Index(['throws', 'should', 'io', 'exception', 'client', 'error', 'assert',\n",
      "       'equal', 'factory', 'that', 'get', 'string', 'resource', 'output',\n",
      "       'inode', 'representation', 'for', 'description', 'table', 'int'],\n",
      "      dtype='object')\n"
     ]
    }
   ],
   "source": [
    "all_importance = feature_importance(all_x, all_y)\n",
    "print(\"The top 20 features in Projects are: \\n\", all_x.columns[np.argsort(-all_importance)[:20]])"
   ]
  },
  {
   "cell_type": "code",
   "execution_count": 133,
   "metadata": {},
   "outputs": [
    {
     "name": "stdout",
     "output_type": "stream",
     "text": [
      "{'classifier': 'randomForest', 'f1score': 0.7955368700195687, 'accuracy': 0.7952313855504902, 'confusionMatrix': array([[676, 175],\n",
      "       [215, 838]]), 'classificationReport': {'Flaky': {'precision': 0.7586980920314254, 'recall': 0.7943595769682726, 'f1-score': 0.7761194029850745, 'support': 851.0}, 'NonFlaky': {'precision': 0.8272458045409674, 'recall': 0.7958214624881291, 'f1-score': 0.8112294288480155, 'support': 1053.0}, 'accuracy': 0.7951680672268907, 'macro avg': {'precision': 0.7929719482861963, 'recall': 0.7950905197282009, 'f1-score': 0.793674415916545, 'support': 1904.0}, 'weighted avg': {'precision': 0.7966081452207887, 'recall': 0.7951680672268907, 'f1-score': 0.7955368700195687, 'support': 1904.0}}, 'MCC': 0.5880586517875824}\n",
      "\n",
      "\n",
      "{'classifier': 'decisionTree', 'f1score': 0.7940691394189576, 'accuracy': 0.7952203343003177, 'confusionMatrix': array([[635, 216],\n",
      "       [175, 878]]), 'classificationReport': {'Flaky': {'precision': 0.7839506172839507, 'recall': 0.7461809635722679, 'f1-score': 0.7645996387718242, 'support': 851.0}, 'NonFlaky': {'precision': 0.8025594149908593, 'recall': 0.8338081671415005, 'f1-score': 0.8178854215183978, 'support': 1053.0}, 'accuracy': 0.7946428571428571, 'macro avg': {'precision': 0.793255016137405, 'recall': 0.7899945653568843, 'f1-score': 0.791242530145111, 'support': 1904.0}, 'weighted avg': {'precision': 0.7942421424863535, 'recall': 0.7946428571428571, 'f1-score': 0.7940691394189576, 'support': 1904.0}}, 'MCC': 0.583240468223846}\n",
      "\n",
      "\n",
      "{'classifier': 'naiveBayes', 'f1score': 0.678424241899036, 'accuracy': 0.6775176129299627, 'confusionMatrix': array([[590, 261],\n",
      "       [353, 700]]), 'classificationReport': {'Flaky': {'precision': 0.6256627783669141, 'recall': 0.6933019976498237, 'f1-score': 0.6577480490523968, 'support': 851.0}, 'NonFlaky': {'precision': 0.72840790842872, 'recall': 0.6647673314339981, 'f1-score': 0.6951340615690169, 'support': 1053.0}, 'accuracy': 0.6775210084033614, 'macro avg': {'precision': 0.6770353433978171, 'recall': 0.679034664541911, 'f1-score': 0.6764410553107069, 'support': 1904.0}, 'weighted avg': {'precision': 0.6824855840155915, 'recall': 0.6775210084033614, 'f1-score': 0.678424241899036, 'support': 1904.0}}, 'MCC': 0.35606439483492414}\n",
      "\n",
      "\n",
      "{'classifier': 'smo', 'f1score': 0.7815930983650445, 'accuracy': 0.7810719712667497, 'confusionMatrix': array([[700, 151],\n",
      "       [266, 787]]), 'classificationReport': {'Flaky': {'precision': 0.7246376811594203, 'recall': 0.8225616921269095, 'f1-score': 0.7705008255365988, 'support': 851.0}, 'NonFlaky': {'precision': 0.8390191897654584, 'recall': 0.7473884140550807, 'f1-score': 0.7905575087895529, 'support': 1053.0}, 'accuracy': 0.7809873949579832, 'macro avg': {'precision': 0.7818284354624394, 'recall': 0.7849750530909951, 'f1-score': 0.7805291671630759, 'support': 1904.0}, 'weighted avg': {'precision': 0.7878959419588731, 'recall': 0.7809873949579832, 'f1-score': 0.7815930983650445, 'support': 1904.0}}, 'MCC': 0.5667947542398774}\n",
      "\n",
      "\n",
      "{'classifier': 'knn', 'f1score': 0.7684326178232322, 'accuracy': 0.7679430860616107, 'confusionMatrix': array([[698, 153],\n",
      "       [289, 764]]), 'classificationReport': {'Flaky': {'precision': 0.707193515704154, 'recall': 0.8202115158636898, 'f1-score': 0.7595212187159956, 'support': 851.0}, 'NonFlaky': {'precision': 0.8331515812431843, 'recall': 0.7255460588793922, 'f1-score': 0.7756345177664975, 'support': 1053.0}, 'accuracy': 0.7678571428571429, 'macro avg': {'precision': 0.7701725484736692, 'recall': 0.772878787371541, 'f1-score': 0.7675778682412466, 'support': 1904.0}, 'weighted avg': {'precision': 0.7768541475385021, 'recall': 0.7678571428571429, 'f1-score': 0.7684326178232322, 'support': 1904.0}}, 'MCC': 0.5430445926756797}\n",
      "\n",
      "\n",
      "{'classifier': 'logisticRegression', 'f1score': 0.8213875019637584, 'accuracy': 0.8214863931482249, 'confusionMatrix': array([[679, 172],\n",
      "       [168, 885]]), 'classificationReport': {'Flaky': {'precision': 0.8016528925619835, 'recall': 0.7978848413631022, 'f1-score': 0.7997644287396937, 'support': 851.0}, 'NonFlaky': {'precision': 0.8372753074739829, 'recall': 0.8404558404558404, 'f1-score': 0.8388625592417062, 'support': 1053.0}, 'accuracy': 0.8214285714285714, 'macro avg': {'precision': 0.8194641000179832, 'recall': 0.8191703409094713, 'f1-score': 0.8193134939906999, 'support': 1904.0}, 'weighted avg': {'precision': 0.8213537344224537, 'recall': 0.8214285714285714, 'f1-score': 0.8213875019637584, 'support': 1904.0}}, 'MCC': 0.6386343733657848}\n",
      "\n",
      "\n",
      "{'classifier': 'perceptron', 'f1score': 0.7868386524657037, 'accuracy': 0.786313026661141, 'confusionMatrix': array([[702, 149],\n",
      "       [258, 795]]), 'classificationReport': {'Flaky': {'precision': 0.73125, 'recall': 0.8249118683901293, 'f1-score': 0.7752622860298177, 'support': 851.0}, 'NonFlaky': {'precision': 0.8421610169491526, 'recall': 0.7549857549857549, 'f1-score': 0.7961942914371557, 'support': 1053.0}, 'accuracy': 0.7862394957983193, 'macro avg': {'precision': 0.7867055084745762, 'recall': 0.7899488116879421, 'f1-score': 0.7857282887334867, 'support': 1904.0}, 'weighted avg': {'precision': 0.7925889185123203, 'recall': 0.7862394957983193, 'f1-score': 0.7868386524657037, 'support': 1904.0}}, 'MCC': 0.5766451993612385}\n",
      "\n",
      "\n",
      "{'classifier': 'lda', 'f1score': 0.578081079979212, 'accuracy': 0.5776889073076392, 'confusionMatrix': array([[457, 394],\n",
      "       [410, 643]]), 'classificationReport': {'Flaky': {'precision': 0.5271049596309112, 'recall': 0.5370152761457109, 'f1-score': 0.5320139697322468, 'support': 851.0}, 'NonFlaky': {'precision': 0.6200578592092575, 'recall': 0.610636277302944, 'f1-score': 0.615311004784689, 'support': 1053.0}, 'accuracy': 0.5777310924369747, 'macro avg': {'precision': 0.5735814094200844, 'recall': 0.5738257767243274, 'f1-score': 0.5736624872584679, 'support': 1904.0}, 'weighted avg': {'precision': 0.5785122092401542, 'recall': 0.5777310924369747, 'f1-score': 0.578081079979212, 'support': 1904.0}}, 'MCC': 0.14740698359180232}\n",
      "\n",
      "\n"
     ]
    }
   ],
   "source": [
    "java_results = classify_with_cv(classifiers, java_x, java_y, cv=5, normalize=['knn'])"
   ]
  },
  {
   "cell_type": "code",
   "execution_count": 134,
   "metadata": {},
   "outputs": [
    {
     "name": "stdout",
     "output_type": "stream",
     "text": [
      "{'classifier': 'randomForest', 'f1score': 0.8000333000333001, 'accuracy': 0.8095238095238095, 'confusionMatrix': array([[112,   1],\n",
      "       [ 39,  58]]), 'classificationReport': {'Flaky': {'precision': 0.7417218543046358, 'recall': 0.9911504424778761, 'f1-score': 0.8484848484848485, 'support': 113.0}, 'NonFlaky': {'precision': 0.9830508474576272, 'recall': 0.5979381443298969, 'f1-score': 0.7435897435897435, 'support': 97.0}, 'accuracy': 0.8095238095238095, 'macro avg': {'precision': 0.8623863508811315, 'recall': 0.7945442934038864, 'f1-score': 0.796037296037296, 'support': 210.0}, 'weighted avg': {'precision': 0.8531928654276842, 'recall': 0.8095238095238095, 'f1-score': 0.8000333000333001, 'support': 210.0}}, 'MCC': 0.6534181866446502}\n",
      "\n",
      "\n",
      "{'classifier': 'decisionTree', 'f1score': 0.6829969499292208, 'accuracy': 0.7380952380952381, 'confusionMatrix': array([[93, 20],\n",
      "       [45, 52]]), 'classificationReport': {'Flaky': {'precision': 0.6739130434782609, 'recall': 0.8230088495575221, 'f1-score': 0.7410358565737051, 'support': 113.0}, 'NonFlaky': {'precision': 0.7222222222222222, 'recall': 0.5360824742268041, 'f1-score': 0.6153846153846153, 'support': 97.0}, 'accuracy': 0.6904761904761905, 'macro avg': {'precision': 0.6980676328502415, 'recall': 0.6795456618921631, 'f1-score': 0.6782102359791602, 'support': 210.0}, 'weighted avg': {'precision': 0.696227283183805, 'recall': 0.6904761904761905, 'f1-score': 0.6829969499292208, 'support': 210.0}}, 'MCC': 0.3771587688998392}\n",
      "\n",
      "\n",
      "{'classifier': 'naiveBayes', 'f1score': 0.77651079241756, 'accuracy': 0.7761904761904762, 'confusionMatrix': array([[86, 27],\n",
      "       [20, 77]]), 'classificationReport': {'Flaky': {'precision': 0.8113207547169812, 'recall': 0.7610619469026548, 'f1-score': 0.7853881278538813, 'support': 113.0}, 'NonFlaky': {'precision': 0.7403846153846154, 'recall': 0.7938144329896907, 'f1-score': 0.7661691542288558, 'support': 97.0}, 'accuracy': 0.7761904761904762, 'macro avg': {'precision': 0.7758526850507983, 'recall': 0.7774381899461728, 'f1-score': 0.7757786410413685, 'support': 210.0}, 'weighted avg': {'precision': 0.7785550141682217, 'recall': 0.7761904761904762, 'f1-score': 0.77651079241756, 'support': 210.0}}, 'MCC': 0.553288603288682}\n",
      "\n",
      "\n",
      "{'classifier': 'smo', 'f1score': 0.7476667414805672, 'accuracy': 0.761904761904762, 'confusionMatrix': array([[109,   4],\n",
      "       [ 46,  51]]), 'classificationReport': {'Flaky': {'precision': 0.7032258064516129, 'recall': 0.9646017699115044, 'f1-score': 0.8134328358208955, 'support': 113.0}, 'NonFlaky': {'precision': 0.9272727272727272, 'recall': 0.5257731958762887, 'f1-score': 0.6710526315789473, 'support': 97.0}, 'accuracy': 0.7619047619047619, 'macro avg': {'precision': 0.81524926686217, 'recall': 0.7451874828938965, 'f1-score': 0.7422427336999214, 'support': 210.0}, 'weighted avg': {'precision': 0.8067141460689847, 'recall': 0.7619047619047619, 'f1-score': 0.7476667414805672, 'support': 210.0}}, 'MCC': 0.556040193605037}\n",
      "\n",
      "\n",
      "{'classifier': 'knn', 'f1score': 0.813099774970964, 'accuracy': 0.8190476190476191, 'confusionMatrix': array([[109,   4],\n",
      "       [ 34,  63]]), 'classificationReport': {'Flaky': {'precision': 0.7622377622377622, 'recall': 0.9646017699115044, 'f1-score': 0.8515625, 'support': 113.0}, 'NonFlaky': {'precision': 0.9402985074626866, 'recall': 0.6494845360824743, 'f1-score': 0.7682926829268293, 'support': 97.0}, 'accuracy': 0.819047619047619, 'macro avg': {'precision': 0.8512681348502245, 'recall': 0.8070431529969893, 'f1-score': 0.8099275914634146, 'support': 210.0}, 'weighted avg': {'precision': 0.8444848683654654, 'recall': 0.819047619047619, 'f1-score': 0.813099774970964, 'support': 210.0}}, 'MCC': 0.6568241033085936}\n",
      "\n",
      "\n",
      "{'classifier': 'logisticRegression', 'f1score': 0.8737639767084628, 'accuracy': 0.8761904761904761, 'confusionMatrix': array([[111,   2],\n",
      "       [ 24,  73]]), 'classificationReport': {'Flaky': {'precision': 0.8222222222222222, 'recall': 0.9823008849557522, 'f1-score': 0.8951612903225806, 'support': 113.0}, 'NonFlaky': {'precision': 0.9733333333333334, 'recall': 0.7525773195876289, 'f1-score': 0.8488372093023255, 'support': 97.0}, 'accuracy': 0.8761904761904762, 'macro avg': {'precision': 0.8977777777777778, 'recall': 0.8674391022716905, 'f1-score': 0.8719992498124531, 'support': 210.0}, 'weighted avg': {'precision': 0.892021164021164, 'recall': 0.8761904761904762, 'f1-score': 0.8737639767084628, 'support': 210.0}}, 'MCC': 0.76461522237082}\n",
      "\n",
      "\n",
      "{'classifier': 'perceptron', 'f1score': 0.7934260670731708, 'accuracy': 0.7999999999999999, 'confusionMatrix': array([[107,   6],\n",
      "       [ 36,  61]]), 'classificationReport': {'Flaky': {'precision': 0.7482517482517482, 'recall': 0.9469026548672567, 'f1-score': 0.8359375, 'support': 113.0}, 'NonFlaky': {'precision': 0.9104477611940298, 'recall': 0.6288659793814433, 'f1-score': 0.7439024390243902, 'support': 97.0}, 'accuracy': 0.8, 'macro avg': {'precision': 0.829349754722889, 'recall': 0.7878843171243499, 'f1-score': 0.7899199695121951, 'support': 210.0}, 'weighted avg': {'precision': 0.8231708589917545, 'recall': 0.8, 'f1-score': 0.7934260670731708, 'support': 210.0}}, 'MCC': 0.6158396844422128}\n",
      "\n",
      "\n",
      "{'classifier': 'lda', 'f1score': 0.66220490791295, 'accuracy': 0.661904761904762, 'confusionMatrix': array([[76, 37],\n",
      "       [34, 63]]), 'classificationReport': {'Flaky': {'precision': 0.6909090909090909, 'recall': 0.672566371681416, 'f1-score': 0.6816143497757847, 'support': 113.0}, 'NonFlaky': {'precision': 0.63, 'recall': 0.6494845360824743, 'f1-score': 0.6395939086294417, 'support': 97.0}, 'accuracy': 0.6619047619047619, 'macro avg': {'precision': 0.6604545454545454, 'recall': 0.6610254538819451, 'f1-score': 0.6606041292026132, 'support': 210.0}, 'weighted avg': {'precision': 0.6627748917748918, 'recall': 0.6619047619047619, 'f1-score': 0.66220490791295, 'support': 210.0}}, 'MCC': 0.32147949240497053}\n",
      "\n",
      "\n"
     ]
    }
   ],
   "source": [
    "python_results = classify_with_cv(classifiers, python_x, python_y, cv=5, normalize=['knn'])"
   ]
  },
  {
   "cell_type": "code",
   "execution_count": 135,
   "metadata": {},
   "outputs": [
    {
     "name": "stdout",
     "output_type": "stream",
     "text": [
      "{'classifier': 'randomForest', 'f1score': 0.9032918301210986, 'accuracy': 0.9116666666666667, 'confusionMatrix': array([[13,  7],\n",
      "       [ 0, 58]]), 'classificationReport': {'Flaky': {'precision': 1.0, 'recall': 0.65, 'f1-score': 0.787878787878788, 'support': 20.0}, 'NonFlaky': {'precision': 0.8923076923076924, 'recall': 1.0, 'f1-score': 0.9430894308943091, 'support': 58.0}, 'accuracy': 0.9102564102564102, 'macro avg': {'precision': 0.9461538461538461, 'recall': 0.825, 'f1-score': 0.8654841093865485, 'support': 78.0}, 'weighted avg': {'precision': 0.9199211045364891, 'recall': 0.9102564102564102, 'f1-score': 0.9032918301210986, 'support': 78.0}}, 'MCC': 0.7615773105863909}\n",
      "\n",
      "\n",
      "{'classifier': 'decisionTree', 'f1score': 0.8668091168091169, 'accuracy': 0.8858333333333335, 'confusionMatrix': array([[13,  7],\n",
      "       [ 3, 55]]), 'classificationReport': {'Flaky': {'precision': 0.8125, 'recall': 0.65, 'f1-score': 0.7222222222222223, 'support': 20.0}, 'NonFlaky': {'precision': 0.8870967741935484, 'recall': 0.9482758620689655, 'f1-score': 0.9166666666666667, 'support': 58.0}, 'accuracy': 0.8717948717948718, 'macro avg': {'precision': 0.8497983870967742, 'recall': 0.7991379310344828, 'f1-score': 0.8194444444444445, 'support': 78.0}, 'weighted avg': {'precision': 0.8679693961952026, 'recall': 0.8717948717948718, 'f1-score': 0.8668091168091169, 'support': 78.0}}, 'MCC': 0.6469558433010034}\n",
      "\n",
      "\n",
      "{'classifier': 'naiveBayes', 'f1score': 0.8073850622870231, 'accuracy': 0.7941666666666667, 'confusionMatrix': array([[19,  1],\n",
      "       [15, 43]]), 'classificationReport': {'Flaky': {'precision': 0.5588235294117647, 'recall': 0.95, 'f1-score': 0.7037037037037037, 'support': 20.0}, 'NonFlaky': {'precision': 0.9772727272727273, 'recall': 0.7413793103448276, 'f1-score': 0.8431372549019609, 'support': 58.0}, 'accuracy': 0.7948717948717948, 'macro avg': {'precision': 0.768048128342246, 'recall': 0.8456896551724138, 'f1-score': 0.7734204793028323, 'support': 78.0}, 'weighted avg': {'precision': 0.8699780611545318, 'recall': 0.7948717948717948, 'f1-score': 0.8073850622870231, 'support': 78.0}}, 'MCC': 0.6088069153885883}\n",
      "\n",
      "\n",
      "{'classifier': 'smo', 'f1score': 0.8318858560794044, 'accuracy': 0.8491666666666667, 'confusionMatrix': array([[10, 10],\n",
      "       [ 2, 56]]), 'classificationReport': {'Flaky': {'precision': 0.8333333333333334, 'recall': 0.5, 'f1-score': 0.625, 'support': 20.0}, 'NonFlaky': {'precision': 0.8484848484848485, 'recall': 0.9655172413793104, 'f1-score': 0.9032258064516129, 'support': 58.0}, 'accuracy': 0.8461538461538461, 'macro avg': {'precision': 0.8409090909090909, 'recall': 0.7327586206896552, 'f1-score': 0.7641129032258065, 'support': 78.0}, 'weighted avg': {'precision': 0.8445998445998446, 'recall': 0.8461538461538461, 'f1-score': 0.8318858560794044, 'support': 78.0}}, 'MCC': 0.5633809715656511}\n",
      "\n",
      "\n",
      "{'classifier': 'knn', 'f1score': 0.738927738927739, 'accuracy': 0.795, 'confusionMatrix': array([[ 4, 16],\n",
      "       [ 0, 58]]), 'classificationReport': {'Flaky': {'precision': 1.0, 'recall': 0.2, 'f1-score': 0.33333333333333337, 'support': 20.0}, 'NonFlaky': {'precision': 0.7837837837837838, 'recall': 1.0, 'f1-score': 0.8787878787878788, 'support': 58.0}, 'accuracy': 0.7948717948717948, 'macro avg': {'precision': 0.8918918918918919, 'recall': 0.6, 'f1-score': 0.6060606060606061, 'support': 78.0}, 'weighted avg': {'precision': 0.8392238392238391, 'recall': 0.7948717948717948, 'f1-score': 0.738927738927739, 'support': 78.0}}, 'MCC': 0.3959251908590267}\n",
      "\n",
      "\n",
      "{'classifier': 'logisticRegression', 'f1score': 0.8879239040529362, 'accuracy': 0.8991666666666667, 'confusionMatrix': array([[12,  8],\n",
      "       [ 0, 58]]), 'classificationReport': {'Flaky': {'precision': 1.0, 'recall': 0.6, 'f1-score': 0.7499999999999999, 'support': 20.0}, 'NonFlaky': {'precision': 0.8787878787878788, 'recall': 1.0, 'f1-score': 0.9354838709677419, 'support': 58.0}, 'accuracy': 0.8974358974358975, 'macro avg': {'precision': 0.9393939393939394, 'recall': 0.8, 'f1-score': 0.8427419354838709, 'support': 78.0}, 'weighted avg': {'precision': 0.9098679098679099, 'recall': 0.8974358974358975, 'f1-score': 0.8879239040529362, 'support': 78.0}}, 'MCC': 0.7261354744623948}\n",
      "\n",
      "\n",
      "{'classifier': 'perceptron', 'f1score': 0.9604640192875488, 'accuracy': 0.9625, 'confusionMatrix': array([[17,  3],\n",
      "       [ 0, 58]]), 'classificationReport': {'Flaky': {'precision': 1.0, 'recall': 0.85, 'f1-score': 0.9189189189189189, 'support': 20.0}, 'NonFlaky': {'precision': 0.9508196721311475, 'recall': 1.0, 'f1-score': 0.9747899159663865, 'support': 58.0}, 'accuracy': 0.9615384615384616, 'macro avg': {'precision': 0.9754098360655737, 'recall': 0.925, 'f1-score': 0.9468544174426528, 'support': 78.0}, 'weighted avg': {'precision': 0.9634300126103403, 'recall': 0.9615384615384616, 'f1-score': 0.9604640192875488, 'support': 78.0}}, 'MCC': 0.8989976203035663}\n",
      "\n",
      "\n",
      "{'classifier': 'lda', 'f1score': 0.6467133222807455, 'accuracy': 0.63, 'confusionMatrix': array([[10, 10],\n",
      "       [19, 39]]), 'classificationReport': {'Flaky': {'precision': 0.3448275862068966, 'recall': 0.5, 'f1-score': 0.40816326530612246, 'support': 20.0}, 'NonFlaky': {'precision': 0.7959183673469388, 'recall': 0.6724137931034483, 'f1-score': 0.7289719626168225, 'support': 58.0}, 'accuracy': 0.6282051282051282, 'macro avg': {'precision': 0.5703729767769177, 'recall': 0.5862068965517242, 'f1-score': 0.5685676139614725, 'support': 78.0}, 'weighted avg': {'precision': 0.6802540644905176, 'recall': 0.6282051282051282, 'f1-score': 0.6467133222807455, 'support': 78.0}}, 'MCC': 0.15577722463883642}\n",
      "\n",
      "\n"
     ]
    }
   ],
   "source": [
    "cpp_results = classify_with_cv(classifiers, cpp_x, cpp_y, cv=5, normalize=['knn'])"
   ]
  },
  {
   "cell_type": "code",
   "execution_count": 136,
   "metadata": {},
   "outputs": [
    {
     "name": "stdout",
     "output_type": "stream",
     "text": [
      "{'classifier': 'randomForest', 'f1score': 0.7251687560270009, 'accuracy': 0.7, 'confusionMatrix': array([[17,  3],\n",
      "       [24, 46]]), 'classificationReport': {'Flaky': {'precision': 0.4146341463414634, 'recall': 0.85, 'f1-score': 0.5573770491803278, 'support': 20.0}, 'NonFlaky': {'precision': 0.9387755102040817, 'recall': 0.6571428571428571, 'f1-score': 0.773109243697479, 'support': 70.0}, 'accuracy': 0.7, 'macro avg': {'precision': 0.6767048282727726, 'recall': 0.7535714285714286, 'f1-score': 0.6652431464389035, 'support': 90.0}, 'weighted avg': {'precision': 0.8222996515679444, 'recall': 0.7, 'f1-score': 0.7251687560270009, 'support': 90.0}}, 'MCC': 0.4233546775014817}\n",
      "\n",
      "\n",
      "{'classifier': 'decisionTree', 'f1score': 0.8813680723430924, 'accuracy': 0.8555555555555555, 'confusionMatrix': array([[12,  8],\n",
      "       [ 2, 68]]), 'classificationReport': {'Flaky': {'precision': 0.8571428571428571, 'recall': 0.6, 'f1-score': 0.7058823529411764, 'support': 20.0}, 'NonFlaky': {'precision': 0.8947368421052632, 'recall': 0.9714285714285714, 'f1-score': 0.9315068493150684, 'support': 70.0}, 'accuracy': 0.8888888888888888, 'macro avg': {'precision': 0.8759398496240601, 'recall': 0.7857142857142857, 'f1-score': 0.8186946011281224, 'support': 90.0}, 'weighted avg': {'precision': 0.8863826232247285, 'recall': 0.8888888888888888, 'f1-score': 0.8813680723430924, 'support': 90.0}}, 'MCC': 0.6554735253444621}\n",
      "\n",
      "\n",
      "{'classifier': 'naiveBayes', 'f1score': 0.8536036036036035, 'accuracy': 0.8666666666666666, 'confusionMatrix': array([[10, 10],\n",
      "       [ 2, 68]]), 'classificationReport': {'Flaky': {'precision': 0.8333333333333334, 'recall': 0.5, 'f1-score': 0.625, 'support': 20.0}, 'NonFlaky': {'precision': 0.8717948717948718, 'recall': 0.9714285714285714, 'f1-score': 0.9189189189189189, 'support': 70.0}, 'accuracy': 0.8666666666666667, 'macro avg': {'precision': 0.8525641025641026, 'recall': 0.7357142857142858, 'f1-score': 0.7719594594594594, 'support': 90.0}, 'weighted avg': {'precision': 0.8632478632478633, 'recall': 0.8666666666666667, 'f1-score': 0.8536036036036035, 'support': 90.0}}, 'MCC': 0.5765566601970551}\n",
      "\n",
      "\n",
      "{'classifier': 'smo', 'f1score': 0.7552447552447552, 'accuracy': 0.8, 'confusionMatrix': array([[ 4, 16],\n",
      "       [ 2, 68]]), 'classificationReport': {'Flaky': {'precision': 0.6666666666666666, 'recall': 0.2, 'f1-score': 0.30769230769230765, 'support': 20.0}, 'NonFlaky': {'precision': 0.8095238095238095, 'recall': 0.9714285714285714, 'f1-score': 0.8831168831168832, 'support': 70.0}, 'accuracy': 0.8, 'macro avg': {'precision': 0.7380952380952381, 'recall': 0.5857142857142857, 'f1-score': 0.5954045954045954, 'support': 90.0}, 'weighted avg': {'precision': 0.7777777777777778, 'recall': 0.8, 'f1-score': 0.7552447552447552, 'support': 90.0}}, 'MCC': 0.2857142857142857}\n",
      "\n",
      "\n",
      "{'classifier': 'knn', 'f1score': 0.2833333333333333, 'accuracy': 0.3333333333333333, 'confusionMatrix': array([[20,  0],\n",
      "       [60, 10]]), 'classificationReport': {'Flaky': {'precision': 0.25, 'recall': 1.0, 'f1-score': 0.4, 'support': 20.0}, 'NonFlaky': {'precision': 1.0, 'recall': 0.14285714285714285, 'f1-score': 0.25, 'support': 70.0}, 'accuracy': 0.3333333333333333, 'macro avg': {'precision': 0.625, 'recall': 0.5714285714285714, 'f1-score': 0.325, 'support': 90.0}, 'weighted avg': {'precision': 0.8333333333333334, 'recall': 0.3333333333333333, 'f1-score': 0.2833333333333333, 'support': 90.0}}, 'MCC': 0.1889822365046136}\n",
      "\n",
      "\n",
      "{'classifier': 'logisticRegression', 'f1score': 0.8429142649426182, 'accuracy': 0.8333333333333334, 'confusionMatrix': array([[17,  3],\n",
      "       [12, 58]]), 'classificationReport': {'Flaky': {'precision': 0.5862068965517241, 'recall': 0.85, 'f1-score': 0.6938775510204082, 'support': 20.0}, 'NonFlaky': {'precision': 0.9508196721311475, 'recall': 0.8285714285714286, 'f1-score': 0.885496183206107, 'support': 70.0}, 'accuracy': 0.8333333333333334, 'macro avg': {'precision': 0.7685132843414357, 'recall': 0.8392857142857143, 'f1-score': 0.7896868671132575, 'support': 90.0}, 'weighted avg': {'precision': 0.8697946108912755, 'recall': 0.8333333333333334, 'f1-score': 0.8429142649426182, 'support': 90.0}}, 'MCC': 0.6036645474863905}\n",
      "\n",
      "\n",
      "{'classifier': 'perceptron', 'f1score': 0.874074074074074, 'accuracy': 0.888888888888889, 'confusionMatrix': array([[10, 10],\n",
      "       [ 0, 70]]), 'classificationReport': {'Flaky': {'precision': 1.0, 'recall': 0.5, 'f1-score': 0.6666666666666666, 'support': 20.0}, 'NonFlaky': {'precision': 0.875, 'recall': 1.0, 'f1-score': 0.9333333333333333, 'support': 70.0}, 'accuracy': 0.8888888888888888, 'macro avg': {'precision': 0.9375, 'recall': 0.75, 'f1-score': 0.8, 'support': 90.0}, 'weighted avg': {'precision': 0.9027777777777778, 'recall': 0.8888888888888888, 'f1-score': 0.874074074074074, 'support': 90.0}}, 'MCC': 0.6614378277661476}\n",
      "\n",
      "\n",
      "{'classifier': 'lda', 'f1score': 0.48896631823461106, 'accuracy': 0.4666666666666666, 'confusionMatrix': array([[17,  3],\n",
      "       [45, 25]]), 'classificationReport': {'Flaky': {'precision': 0.27419354838709675, 'recall': 0.85, 'f1-score': 0.4146341463414634, 'support': 20.0}, 'NonFlaky': {'precision': 0.8928571428571429, 'recall': 0.35714285714285715, 'f1-score': 0.5102040816326532, 'support': 70.0}, 'accuracy': 0.4666666666666667, 'macro avg': {'precision': 0.5835253456221199, 'recall': 0.6035714285714285, 'f1-score': 0.46241911398705826, 'support': 90.0}, 'weighted avg': {'precision': 0.7553763440860215, 'recall': 0.4666666666666667, 'f1-score': 0.48896631823461106, 'support': 90.0}}, 'MCC': 0.1860197770991597}\n",
      "\n",
      "\n"
     ]
    }
   ],
   "source": [
    "go_results = classify_with_cv(classifiers, go_x, go_y, cv=5, normalize=['knn'])"
   ]
  },
  {
   "cell_type": "code",
   "execution_count": 137,
   "metadata": {},
   "outputs": [
    {
     "name": "stdout",
     "output_type": "stream",
     "text": [
      "{'classifier': 'randomForest', 'f1score': 0.7947548448048061, 'accuracy': 0.7944020356234096, 'confusionMatrix': array([[684, 185],\n",
      "       [219, 877]]), 'classificationReport': {'Flaky': {'precision': 0.7574750830564784, 'recall': 0.7871116225546605, 'f1-score': 0.7720090293453724, 'support': 869.0}, 'NonFlaky': {'precision': 0.8258003766478342, 'recall': 0.8001824817518248, 'f1-score': 0.8127896200185357, 'support': 1096.0}, 'accuracy': 0.7944020356234097, 'macro avg': {'precision': 0.7916377298521563, 'recall': 0.7936470521532426, 'f1-score': 0.7923993246819541, 'support': 1965.0}, 'weighted avg': {'precision': 0.7955842544438197, 'recall': 0.7944020356234097, 'f1-score': 0.7947548448048061, 'support': 1965.0}}, 'MCC': 0.5852813329254555}\n",
      "\n",
      "\n",
      "{'classifier': 'decisionTree', 'f1score': 0.7601884836490435, 'accuracy': 0.7725190839694656, 'confusionMatrix': array([[649, 220],\n",
      "       [252, 844]]), 'classificationReport': {'Flaky': {'precision': 0.7203107658157603, 'recall': 0.7468354430379747, 'f1-score': 0.7333333333333333, 'support': 869.0}, 'NonFlaky': {'precision': 0.793233082706767, 'recall': 0.7700729927007299, 'f1-score': 0.7814814814814814, 'support': 1096.0}, 'accuracy': 0.759796437659033, 'macro avg': {'precision': 0.7567719242612636, 'recall': 0.7584542178693523, 'f1-score': 0.7574074074074073, 'support': 1965.0}, 'weighted avg': {'precision': 0.7609839766618384, 'recall': 0.759796437659033, 'f1-score': 0.7601884836490435, 'support': 1965.0}}, 'MCC': 0.5152233956479595}\n",
      "\n",
      "\n",
      "{'classifier': 'naiveBayes', 'f1score': 0.6650527124432053, 'accuracy': 0.6641221374045801, 'confusionMatrix': array([[572, 297],\n",
      "       [363, 733]]), 'classificationReport': {'Flaky': {'precision': 0.611764705882353, 'recall': 0.6582278481012658, 'f1-score': 0.6341463414634146, 'support': 869.0}, 'NonFlaky': {'precision': 0.7116504854368932, 'recall': 0.6687956204379562, 'f1-score': 0.6895578551269991, 'support': 1096.0}, 'accuracy': 0.6641221374045801, 'macro avg': {'precision': 0.6617075956596231, 'recall': 0.663511734269611, 'f1-score': 0.6618520982952069, 'support': 1965.0}, 'weighted avg': {'precision': 0.6674770796186258, 'recall': 0.6641221374045801, 'f1-score': 0.6650527124432053, 'support': 1965.0}}, 'MCC': 0.3252143257045974}\n",
      "\n",
      "\n",
      "{'classifier': 'smo', 'f1score': 0.7469997839425578, 'accuracy': 0.7465648854961833, 'confusionMatrix': array([[637, 232],\n",
      "       [266, 830]]), 'classificationReport': {'Flaky': {'precision': 0.7054263565891473, 'recall': 0.7330264672036824, 'f1-score': 0.718961625282167, 'support': 869.0}, 'NonFlaky': {'precision': 0.7815442561205274, 'recall': 0.7572992700729927, 'f1-score': 0.7692307692307693, 'support': 1096.0}, 'accuracy': 0.7465648854961832, 'macro avg': {'precision': 0.7434853063548373, 'recall': 0.7451628686383376, 'f1-score': 0.7440961972564681, 'support': 1965.0}, 'weighted avg': {'precision': 0.7478819382107211, 'recall': 0.7465648854961832, 'f1-score': 0.7469997839425578, 'support': 1965.0}}, 'MCC': 0.48864529539221535}\n",
      "\n",
      "\n",
      "{'classifier': 'knn', 'f1score': 0.7660629959745753, 'accuracy': 0.7653944020356234, 'confusionMatrix': array([[717, 152],\n",
      "       [309, 787]]), 'classificationReport': {'Flaky': {'precision': 0.6988304093567251, 'recall': 0.8250863060989643, 'f1-score': 0.7567282321899736, 'support': 869.0}, 'NonFlaky': {'precision': 0.838125665601704, 'recall': 0.718065693430657, 'f1-score': 0.7734643734643735, 'support': 1096.0}, 'accuracy': 0.7653944020356234, 'macro avg': {'precision': 0.7684780374792146, 'recall': 0.7715759997648106, 'f1-score': 0.7650963028271736, 'support': 1965.0}, 'weighted avg': {'precision': 0.7765238449009984, 'recall': 0.7653944020356234, 'f1-score': 0.7660629959745753, 'support': 1965.0}}, 'MCC': 0.540045151606093}\n",
      "\n",
      "\n",
      "{'classifier': 'logisticRegression', 'f1score': 0.7943761310764363, 'accuracy': 0.7938931297709924, 'confusionMatrix': array([[692, 177],\n",
      "       [228, 868]]), 'classificationReport': {'Flaky': {'precision': 0.7521739130434782, 'recall': 0.7963176064441887, 'f1-score': 0.7736165455561765, 'support': 869.0}, 'NonFlaky': {'precision': 0.830622009569378, 'recall': 0.791970802919708, 'f1-score': 0.8108360579168613, 'support': 1096.0}, 'accuracy': 0.7938931297709924, 'macro avg': {'precision': 0.7913979613064281, 'recall': 0.7941442046819484, 'f1-score': 0.792226301736519, 'support': 1965.0}, 'weighted avg': {'precision': 0.7959291872380768, 'recall': 0.7938931297709924, 'f1-score': 0.7943761310764363, 'support': 1965.0}}, 'MCC': 0.5855357258935461}\n",
      "\n",
      "\n",
      "{'classifier': 'perceptron', 'f1score': 0.7416538919935995, 'accuracy': 0.740966921119593, 'confusionMatrix': array([[697, 172],\n",
      "       [337, 759]]), 'classificationReport': {'Flaky': {'precision': 0.6740812379110251, 'recall': 0.8020713463751439, 'f1-score': 0.7325275880189175, 'support': 869.0}, 'NonFlaky': {'precision': 0.8152524167561761, 'recall': 0.6925182481751825, 'f1-score': 0.7488899851998027, 'support': 1096.0}, 'accuracy': 0.7409669211195928, 'macro avg': {'precision': 0.7446668273336006, 'recall': 0.7472947972751631, 'f1-score': 0.74070878660936, 'support': 1965.0}, 'weighted avg': {'precision': 0.7528209895722391, 'recall': 0.7409669211195928, 'f1-score': 0.7416538919935995, 'support': 1965.0}}, 'MCC': 0.4919546054888403}\n",
      "\n",
      "\n",
      "{'classifier': 'lda', 'f1score': 0.5636219504080654, 'accuracy': 0.5643765903307888, 'confusionMatrix': array([[428, 441],\n",
      "       [415, 681]]), 'classificationReport': {'Flaky': {'precision': 0.5077105575326216, 'recall': 0.49252013808975836, 'f1-score': 0.5000000000000001, 'support': 869.0}, 'NonFlaky': {'precision': 0.606951871657754, 'recall': 0.6213503649635036, 'f1-score': 0.6140667267808837, 'support': 1096.0}, 'accuracy': 0.5643765903307888, 'macro avg': {'precision': 0.5573312145951879, 'recall': 0.556935251526631, 'f1-score': 0.5570333633904418, 'support': 1965.0}, 'weighted avg': {'precision': 0.5630634737062324, 'recall': 0.5643765903307888, 'f1-score': 0.5636219504080654, 'support': 1965.0}}, 'MCC': 0.11426578006217392}\n",
      "\n",
      "\n"
     ]
    }
   ],
   "source": [
    "java_js_results = classify_with_cv(classifiers, java_js_x, java_js_y, cv=5, normalize=['knn'])"
   ]
  },
  {
   "cell_type": "code",
   "execution_count": 138,
   "metadata": {},
   "outputs": [
    {
     "name": "stdout",
     "output_type": "stream",
     "text": [
      "{'classifier': 'randomForest', 'f1score': 0.7861425330927515, 'accuracy': 0.7857032899595386, 'confusionMatrix': array([[801, 183],\n",
      "       [287, 921]]), 'classificationReport': {'Flaky': {'precision': 0.7362132352941176, 'recall': 0.8140243902439024, 'f1-score': 0.7731660231660231, 'support': 984.0}, 'NonFlaky': {'precision': 0.8342391304347826, 'recall': 0.7624172185430463, 'f1-score': 0.7967128027681661, 'support': 1208.0}, 'accuracy': 0.7855839416058394, 'macro avg': {'precision': 0.7852261828644501, 'recall': 0.7882208043934744, 'f1-score': 0.7849394129670946, 'support': 2192.0}, 'weighted avg': {'precision': 0.7902348052439002, 'recall': 0.7855839416058394, 'f1-score': 0.7861425330927515, 'support': 2192.0}}, 'MCC': 0.5734391680353621}\n",
      "\n",
      "\n",
      "{'classifier': 'decisionTree', 'f1score': 0.7063035216515083, 'accuracy': 0.7308952476050801, 'confusionMatrix': array([[747, 237],\n",
      "       [408, 800]]), 'classificationReport': {'Flaky': {'precision': 0.6467532467532467, 'recall': 0.7591463414634146, 'f1-score': 0.6984572230014024, 'support': 984.0}, 'NonFlaky': {'precision': 0.7714561234329798, 'recall': 0.6622516556291391, 'f1-score': 0.712694877505568, 'support': 1208.0}, 'accuracy': 0.7057481751824818, 'macro avg': {'precision': 0.7091046850931133, 'recall': 0.7106989985462768, 'f1-score': 0.7055760502534852, 'support': 2192.0}, 'weighted avg': {'precision': 0.7154763649234646, 'recall': 0.7057481751824818, 'f1-score': 0.7063035216515083, 'support': 2192.0}}, 'MCC': 0.4198006562188942}\n",
      "\n",
      "\n",
      "{'classifier': 'naiveBayes', 'f1score': 0.6927481533315212, 'accuracy': 0.692173994445658, 'confusionMatrix': array([[724, 260],\n",
      "       [415, 793]]), 'classificationReport': {'Flaky': {'precision': 0.6356453028972783, 'recall': 0.7357723577235772, 'f1-score': 0.682053697597739, 'support': 984.0}, 'NonFlaky': {'precision': 0.7530864197530864, 'recall': 0.6564569536423841, 'f1-score': 0.7014595311808934, 'support': 1208.0}, 'accuracy': 0.6920620437956204, 'macro avg': {'precision': 0.6943658613251824, 'recall': 0.6961146556829807, 'f1-score': 0.6917566143893162, 'support': 2192.0}, 'weighted avg': {'precision': 0.7003665023324135, 'recall': 0.6920620437956204, 'f1-score': 0.6927481533315212, 'support': 2192.0}}, 'MCC': 0.3904766009394883}\n",
      "\n",
      "\n",
      "{'classifier': 'smo', 'f1score': 0.7234055054373133, 'accuracy': 0.7236298769515608, 'confusionMatrix': array([[798, 186],\n",
      "       [420, 788]]), 'classificationReport': {'Flaky': {'precision': 0.6551724137931034, 'recall': 0.8109756097560976, 'f1-score': 0.7247956403269755, 'support': 984.0}, 'NonFlaky': {'precision': 0.8090349075975359, 'recall': 0.652317880794702, 'f1-score': 0.7222731439046746, 'support': 1208.0}, 'accuracy': 0.7235401459854015, 'macro avg': {'precision': 0.7321036606953197, 'recall': 0.7316467452753999, 'f1-score': 0.723534392115825, 'support': 2192.0}, 'weighted avg': {'precision': 0.7399652479699986, 'recall': 0.7235401459854015, 'f1-score': 0.7234055054373133, 'support': 2192.0}}, 'MCC': 0.46375018088007924}\n",
      "\n",
      "\n",
      "{'classifier': 'knn', 'f1score': 0.7730536676093174, 'accuracy': 0.7729532665564119, 'confusionMatrix': array([[834, 150],\n",
      "       [348, 860]]), 'classificationReport': {'Flaky': {'precision': 0.7055837563451777, 'recall': 0.8475609756097561, 'f1-score': 0.7700831024930749, 'support': 984.0}, 'NonFlaky': {'precision': 0.8514851485148515, 'recall': 0.7119205298013245, 'f1-score': 0.775473399458972, 'support': 1208.0}, 'accuracy': 0.7728102189781022, 'macro avg': {'precision': 0.7785344524300146, 'recall': 0.7797407527055402, 'f1-score': 0.7727782509760235, 'support': 2192.0}, 'weighted avg': {'precision': 0.785989268088319, 'recall': 0.7728102189781022, 'f1-score': 0.7730536676093174, 'support': 2192.0}}, 'MCC': 0.5582739018696746}\n",
      "\n",
      "\n",
      "{'classifier': 'logisticRegression', 'f1score': 0.7659592272890178, 'accuracy': 0.76560572492485, 'confusionMatrix': array([[812, 172],\n",
      "       [342, 866]]), 'classificationReport': {'Flaky': {'precision': 0.7036395147313691, 'recall': 0.8252032520325203, 'f1-score': 0.7595884003741815, 'support': 984.0}, 'NonFlaky': {'precision': 0.8342967244701349, 'recall': 0.7168874172185431, 'f1-score': 0.7711487088156724, 'support': 1208.0}, 'accuracy': 0.7655109489051095, 'macro avg': {'precision': 0.7689681196007521, 'recall': 0.7710453346255317, 'f1-score': 0.7653685545949269, 'support': 2192.0}, 'weighted avg': {'precision': 0.7756440354268204, 'recall': 0.7655109489051095, 'f1-score': 0.7659592272890178, 'support': 2192.0}}, 'MCC': 0.5400094591052488}\n",
      "\n",
      "\n",
      "{'classifier': 'perceptron', 'f1score': 0.7429764428346486, 'accuracy': 0.7427746746965393, 'confusionMatrix': array([[801, 183],\n",
      "       [381, 827]]), 'classificationReport': {'Flaky': {'precision': 0.6776649746192893, 'recall': 0.8140243902439024, 'f1-score': 0.7396121883656509, 'support': 984.0}, 'NonFlaky': {'precision': 0.8188118811881188, 'recall': 0.6846026490066225, 'f1-score': 0.7457168620378719, 'support': 1208.0}, 'accuracy': 0.7427007299270073, 'macro avg': {'precision': 0.748238427903704, 'recall': 0.7493135196252625, 'f1-score': 0.7426645252017614, 'support': 2192.0}, 'weighted avg': {'precision': 0.7554503136407975, 'recall': 0.7427007299270073, 'f1-score': 0.7429764428346486, 'support': 2192.0}}, 'MCC': 0.49755078601853064}\n",
      "\n",
      "\n",
      "{'classifier': 'lda', 'f1score': 0.5961621807298785, 'accuracy': 0.599516335382407, 'confusionMatrix': array([[488, 496],\n",
      "       [382, 826]]), 'classificationReport': {'Flaky': {'precision': 0.5609195402298851, 'recall': 0.4959349593495935, 'f1-score': 0.5264293419633226, 'support': 984.0}, 'NonFlaky': {'precision': 0.6248108925869894, 'recall': 0.6837748344370861, 'f1-score': 0.6529644268774704, 'support': 1208.0}, 'accuracy': 0.5994525547445255, 'macro avg': {'precision': 0.5928652164084373, 'recall': 0.5898548968933398, 'f1-score': 0.5896968844203965, 'support': 2192.0}, 'weighted avg': {'precision': 0.59612973806172, 'recall': 0.5994525547445255, 'f1-score': 0.5961621807298785, 'support': 2192.0}}, 'MCC': 0.18269531406533465}\n",
      "\n",
      "\n"
     ]
    }
   ],
   "source": [
    "java_py_cpp_results = classify_with_cv(classifiers, java_py_cpp_x, java_py_cpp_y, cv=5, normalize=['knn'])"
   ]
  },
  {
   "cell_type": "code",
   "execution_count": 139,
   "metadata": {},
   "outputs": [
    {
     "name": "stdout",
     "output_type": "stream",
     "text": [
      "{'classifier': 'randomForest', 'f1score': 0.6763439176954646, 'accuracy': 0.6755873340143004, 'confusionMatrix': array([[147,  26],\n",
      "       [117, 151]]), 'classificationReport': {'Flaky': {'precision': 0.5568181818181818, 'recall': 0.8497109826589595, 'f1-score': 0.6727688787185354, 'support': 173.0}, 'NonFlaky': {'precision': 0.8531073446327684, 'recall': 0.5634328358208955, 'f1-score': 0.6786516853932585, 'support': 268.0}, 'accuracy': 0.6757369614512472, 'macro avg': {'precision': 0.7049627632254751, 'recall': 0.7065719092399275, 'f1-score': 0.6757102820558969, 'support': 441.0}, 'weighted avg': {'precision': 0.7368759950479078, 'recall': 0.6757369614512472, 'f1-score': 0.6763439176954646, 'support': 441.0}}, 'MCC': 0.41153152648407193}\n",
      "\n",
      "\n",
      "{'classifier': 'decisionTree', 'f1score': 0.6338069082108562, 'accuracy': 0.6008682328907048, 'confusionMatrix': array([[126,  47],\n",
      "       [116, 152]]), 'classificationReport': {'Flaky': {'precision': 0.5206611570247934, 'recall': 0.7283236994219653, 'f1-score': 0.6072289156626506, 'support': 173.0}, 'NonFlaky': {'precision': 0.7638190954773869, 'recall': 0.5671641791044776, 'f1-score': 0.6509635974304068, 'support': 268.0}, 'accuracy': 0.6303854875283447, 'macro avg': {'precision': 0.6422401262510902, 'recall': 0.6477439392632214, 'f1-score': 0.6290962565465287, 'support': 441.0}, 'weighted avg': {'precision': 0.668430607150179, 'recall': 0.6303854875283447, 'f1-score': 0.6338069082108562, 'support': 441.0}}, 'MCC': 0.2899318304266299}\n",
      "\n",
      "\n",
      "{'classifier': 'naiveBayes', 'f1score': 0.6075370401476297, 'accuracy': 0.6054136874361593, 'confusionMatrix': array([[ 92,  81],\n",
      "       [ 93, 175]]), 'classificationReport': {'Flaky': {'precision': 0.4972972972972973, 'recall': 0.5317919075144508, 'f1-score': 0.5139664804469274, 'support': 173.0}, 'NonFlaky': {'precision': 0.68359375, 'recall': 0.6529850746268657, 'f1-score': 0.66793893129771, 'support': 268.0}, 'accuracy': 0.6054421768707483, 'macro avg': {'precision': 0.5904455236486487, 'recall': 0.5923884910706583, 'f1-score': 0.5909527058723187, 'support': 441.0}, 'weighted avg': {'precision': 0.6105114681007537, 'recall': 0.6054421768707483, 'f1-score': 0.6075370401476297, 'support': 441.0}}, 'MCC': 0.18282369052170658}\n",
      "\n",
      "\n",
      "{'classifier': 'smo', 'f1score': 0.533489801695971, 'accuracy': 0.5487742594484167, 'confusionMatrix': array([[ 52, 121],\n",
      "       [ 78, 190]]), 'classificationReport': {'Flaky': {'precision': 0.4, 'recall': 0.30057803468208094, 'f1-score': 0.3432343234323433, 'support': 173.0}, 'NonFlaky': {'precision': 0.6109324758842444, 'recall': 0.7089552238805971, 'f1-score': 0.6563039723661486, 'support': 268.0}, 'accuracy': 0.5487528344671202, 'macro avg': {'precision': 0.5054662379421222, 'recall': 0.504766629281339, 'f1-score': 0.4997691478992459, 'support': 441.0}, 'weighted avg': {'precision': 0.5281857223060715, 'recall': 0.5487528344671202, 'f1-score': 0.533489801695971, 'support': 441.0}}, 'MCC': 0.010208923514981526}\n",
      "\n",
      "\n",
      "{'classifier': 'knn', 'f1score': 0.5894948158752157, 'accuracy': 0.6078907048008171, 'confusionMatrix': array([[163,  10],\n",
      "       [163, 105]]), 'classificationReport': {'Flaky': {'precision': 0.5, 'recall': 0.9421965317919075, 'f1-score': 0.653306613226453, 'support': 173.0}, 'NonFlaky': {'precision': 0.9130434782608695, 'recall': 0.3917910447761194, 'f1-score': 0.5483028720626631, 'support': 268.0}, 'accuracy': 0.6077097505668935, 'macro avg': {'precision': 0.7065217391304348, 'recall': 0.6669937882840135, 'f1-score': 0.6008047426445581, 'support': 441.0}, 'weighted avg': {'precision': 0.751010549147195, 'recall': 0.6077097505668935, 'f1-score': 0.5894948158752157, 'support': 441.0}}, 'MCC': 0.3714180802297814}\n",
      "\n",
      "\n",
      "{'classifier': 'logisticRegression', 'f1score': 0.675260742034061, 'accuracy': 0.6735444330949948, 'confusionMatrix': array([[142,  31],\n",
      "       [113, 155]]), 'classificationReport': {'Flaky': {'precision': 0.5568627450980392, 'recall': 0.8208092485549133, 'f1-score': 0.6635514018691588, 'support': 173.0}, 'NonFlaky': {'precision': 0.8333333333333334, 'recall': 0.5783582089552238, 'f1-score': 0.6828193832599119, 'support': 268.0}, 'accuracy': 0.673469387755102, 'macro avg': {'precision': 0.6950980392156862, 'recall': 0.6995837287550686, 'f1-score': 0.6731853925645354, 'support': 441.0}, 'weighted avg': {'precision': 0.7248766173135921, 'recall': 0.673469387755102, 'f1-score': 0.675260742034061, 'support': 441.0}}, 'MCC': 0.394656276470902}\n",
      "\n",
      "\n",
      "{'classifier': 'perceptron', 'f1score': 0.7470165939133119, 'accuracy': 0.7481869254341165, 'confusionMatrix': array([[113,  60],\n",
      "       [ 51, 217]]), 'classificationReport': {'Flaky': {'precision': 0.6890243902439024, 'recall': 0.653179190751445, 'f1-score': 0.6706231454005934, 'support': 173.0}, 'NonFlaky': {'precision': 0.7833935018050542, 'recall': 0.8097014925373134, 'f1-score': 0.7963302752293577, 'support': 268.0}, 'accuracy': 0.7482993197278912, 'macro avg': {'precision': 0.7362089460244783, 'recall': 0.7314403416443792, 'f1-score': 0.7334767103149755, 'support': 441.0}, 'weighted avg': {'precision': 0.7463734194919494, 'recall': 0.7482993197278912, 'f1-score': 0.7470165939133119, 'support': 441.0}}, 'MCC': 0.4676249743859453}\n",
      "\n",
      "\n",
      "{'classifier': 'lda', 'f1score': 0.5493318594345119, 'accuracy': 0.5441777323799796, 'confusionMatrix': array([[101,  72],\n",
      "       [129, 139]]), 'classificationReport': {'Flaky': {'precision': 0.4391304347826087, 'recall': 0.5838150289017341, 'f1-score': 0.5012406947890818, 'support': 173.0}, 'NonFlaky': {'precision': 0.6587677725118484, 'recall': 0.5186567164179104, 'f1-score': 0.5803757828810021, 'support': 268.0}, 'accuracy': 0.54421768707483, 'macro avg': {'precision': 0.5489491036472285, 'recall': 0.5512358726598223, 'f1-score': 0.5408082388350419, 'support': 441.0}, 'weighted avg': {'precision': 0.5726061865092215, 'recall': 0.54421768707483, 'f1-score': 0.5493318594345119, 'support': 441.0}}, 'MCC': 0.10015887461991259}\n",
      "\n",
      "\n"
     ]
    }
   ],
   "source": [
    "nojava_results = classify_with_cv(classifiers, no_java_x, no_java_y, cv=5, normalize=['knn'])"
   ]
  },
  {
   "cell_type": "code",
   "execution_count": 140,
   "metadata": {},
   "outputs": [
    {
     "name": "stdout",
     "output_type": "stream",
     "text": [
      "{'classifier': 'randomForest', 'f1score': 0.7417321354876324, 'accuracy': 0.740724946695096, 'confusionMatrix': array([[780, 244],\n",
      "       [364, 957]]), 'classificationReport': {'Flaky': {'precision': 0.6818181818181818, 'recall': 0.76171875, 'f1-score': 0.7195571955719557, 'support': 1024.0}, 'NonFlaky': {'precision': 0.7968359700249792, 'recall': 0.72445117335352, 'f1-score': 0.7589214908802537, 'support': 1321.0}, 'accuracy': 0.7407249466950959, 'macro avg': {'precision': 0.7393270759215804, 'recall': 0.7430849616767601, 'f1-score': 0.7392393432261047, 'support': 2345.0}, 'weighted avg': {'precision': 0.7466107183730557, 'recall': 0.7407249466950959, 'f1-score': 0.7417321354876324, 'support': 2345.0}}, 'MCC': 0.4823974008164158}\n",
      "\n",
      "\n",
      "{'classifier': 'decisionTree', 'f1score': 0.6877421963570248, 'accuracy': 0.6788912579957357, 'confusionMatrix': array([[750, 274],\n",
      "       [461, 860]]), 'classificationReport': {'Flaky': {'precision': 0.6193228736581338, 'recall': 0.732421875, 'f1-score': 0.6711409395973155, 'support': 1024.0}, 'NonFlaky': {'precision': 0.7583774250440917, 'recall': 0.6510219530658592, 'f1-score': 0.70061099796334, 'support': 1321.0}, 'accuracy': 0.6865671641791045, 'macro avg': {'precision': 0.6888501493511128, 'recall': 0.6917219140329296, 'f1-score': 0.6858759687803277, 'support': 2345.0}, 'weighted avg': {'precision': 0.6976559493002874, 'recall': 0.6865671641791045, 'f1-score': 0.6877421963570248, 'support': 2345.0}}, 'MCC': 0.38056122818279825}\n",
      "\n",
      "\n",
      "{'classifier': 'naiveBayes', 'f1score': 0.6651463923091784, 'accuracy': 0.6643923240938167, 'confusionMatrix': array([[754, 270],\n",
      "       [517, 804]]), 'classificationReport': {'Flaky': {'precision': 0.5932336742722266, 'recall': 0.736328125, 'f1-score': 0.6570806100217865, 'support': 1024.0}, 'NonFlaky': {'precision': 0.7486033519553073, 'recall': 0.6086298258894777, 'f1-score': 0.6713987473903966, 'support': 1321.0}, 'accuracy': 0.6643923240938167, 'macro avg': {'precision': 0.6709185131137669, 'recall': 0.6724789754447389, 'f1-score': 0.6642396787060916, 'support': 2345.0}, 'weighted avg': {'precision': 0.6807574884382604, 'recall': 0.6643923240938167, 'f1-score': 0.6651463923091784, 'support': 2345.0}}, 'MCC': 0.3433939430240474}\n",
      "\n",
      "\n",
      "{'classifier': 'smo', 'f1score': 0.6486901506245947, 'accuracy': 0.6486140724946695, 'confusionMatrix': array([[614, 410],\n",
      "       [414, 907]]), 'classificationReport': {'Flaky': {'precision': 0.5972762645914397, 'recall': 0.599609375, 'f1-score': 0.5984405458089668, 'support': 1024.0}, 'NonFlaky': {'precision': 0.6886864085041762, 'recall': 0.6866010598031794, 'f1-score': 0.6876421531463229, 'support': 1321.0}, 'accuracy': 0.6486140724946695, 'macro avg': {'precision': 0.6429813365478079, 'recall': 0.6431052174015897, 'f1-score': 0.6430413494776448, 'support': 2345.0}, 'weighted avg': {'precision': 0.6487699959810879, 'recall': 0.6486140724946695, 'f1-score': 0.6486901506245947, 'support': 2345.0}}, 'MCC': 0.2860865271280276}\n",
      "\n",
      "\n",
      "{'classifier': 'knn', 'f1score': 0.7059824947093495, 'accuracy': 0.7070362473347548, 'confusionMatrix': array([[857, 167],\n",
      "       [520, 801]]), 'classificationReport': {'Flaky': {'precision': 0.6223674655047204, 'recall': 0.8369140625, 'f1-score': 0.713869221157851, 'support': 1024.0}, 'NonFlaky': {'precision': 0.8274793388429752, 'recall': 0.6063588190764573, 'f1-score': 0.6998689384010486, 'support': 1321.0}, 'accuracy': 0.7070362473347548, 'macro avg': {'precision': 0.7249234021738478, 'recall': 0.7216364407882286, 'f1-score': 0.7068690797794498, 'support': 2345.0}, 'weighted avg': {'precision': 0.7379123630227735, 'recall': 0.7070362473347548, 'f1-score': 0.7059824947093495, 'support': 2345.0}}, 'MCC': 0.44654774574636896}\n",
      "\n",
      "\n",
      "{'classifier': 'logisticRegression', 'f1score': 0.7050357904622018, 'accuracy': 0.7040511727078892, 'confusionMatrix': array([[782, 242],\n",
      "       [452, 869]]), 'classificationReport': {'Flaky': {'precision': 0.6337115072933549, 'recall': 0.763671875, 'f1-score': 0.6926483613817538, 'support': 1024.0}, 'NonFlaky': {'precision': 0.7821782178217822, 'recall': 0.6578349735049205, 'f1-score': 0.7146381578947367, 'support': 1321.0}, 'accuracy': 0.7040511727078891, 'macro avg': {'precision': 0.7079448625575686, 'recall': 0.7107534242524602, 'f1-score': 0.7036432596382453, 'support': 2345.0}, 'weighted avg': {'precision': 0.7173466990238677, 'recall': 0.7040511727078891, 'f1-score': 0.7050357904622018, 'support': 2345.0}}, 'MCC': 0.41868886701088576}\n",
      "\n",
      "\n",
      "{'classifier': 'perceptron', 'f1score': 0.626447670165021, 'accuracy': 0.6251599147121535, 'confusionMatrix': array([[630, 394],\n",
      "       [485, 836]]), 'classificationReport': {'Flaky': {'precision': 0.5650224215246636, 'recall': 0.615234375, 'f1-score': 0.5890603085553997, 'support': 1024.0}, 'NonFlaky': {'precision': 0.6796747967479675, 'recall': 0.6328538985616957, 'f1-score': 0.6554292434339476, 'support': 1321.0}, 'accuracy': 0.6251599147121535, 'macro avg': {'precision': 0.6223486091363155, 'recall': 0.6240441367808478, 'f1-score': 0.6222447759946736, 'support': 2345.0}, 'weighted avg': {'precision': 0.6296091113626101, 'recall': 0.6251599147121535, 'f1-score': 0.626447670165021, 'support': 2345.0}}, 'MCC': 0.24638691204405824}\n",
      "\n",
      "\n",
      "{'classifier': 'lda', 'f1score': 0.5575249026453939, 'accuracy': 0.5569296375266524, 'confusionMatrix': array([[518, 506],\n",
      "       [533, 788]]), 'classificationReport': {'Flaky': {'precision': 0.4928639391056137, 'recall': 0.505859375, 'f1-score': 0.4992771084337349, 'support': 1024.0}, 'NonFlaky': {'precision': 0.6089644513137558, 'recall': 0.5965177895533686, 'f1-score': 0.6026768642447419, 'support': 1321.0}, 'accuracy': 0.5569296375266525, 'macro avg': {'precision': 0.5509141952096848, 'recall': 0.5511885822766843, 'f1-score': 0.5509769863392384, 'support': 2345.0}, 'weighted avg': {'precision': 0.5582664024859786, 'recall': 0.5569296375266525, 'f1-score': 0.5575249026453939, 'support': 2345.0}}, 'MCC': 0.10210240879709186}\n",
      "\n",
      "\n"
     ]
    }
   ],
   "source": [
    "all_results = classify_with_cv(classifiers, all_x, all_y, cv=5, normalize=['knn'])"
   ]
  },
  {
   "cell_type": "code",
   "execution_count": 141,
   "metadata": {},
   "outputs": [],
   "source": [
    "output = pd.concat([java_results, python_results, cpp_results, go_results, java_js_results, java_py_cpp_results, nojava_results, all_results], axis=0)"
   ]
  },
  {
   "cell_type": "code",
   "execution_count": 142,
   "metadata": {},
   "outputs": [],
   "source": [
    "output.to_excel('./output_results.xlsx')"
   ]
  },
  {
   "cell_type": "code",
   "execution_count": 143,
   "metadata": {},
   "outputs": [],
   "source": [
    "f1scores = np.array([java_results.f1score, python_results.f1score, cpp_results.f1score, go_results.f1score, \n",
    "                     java_js_results.f1score, java_py_cpp_results.f1score, nojava_results.f1score, all_results.f1score])\n",
    "accuracys = np.array([java_results.accuracy, python_results.accuracy, cpp_results.accuracy, go_results.accuracy, \n",
    "                     java_js_results.accuracy, java_py_cpp_results.accuracy, nojava_results.accuracy, all_results.accuracy])"
   ]
  },
  {
   "cell_type": "code",
   "execution_count": 145,
   "metadata": {},
   "outputs": [
    {
     "data": {
      "image/png": "[encoded data removed]",
      "text/plain": [
       "<Figure size 640x480 with 1 Axes>"
      ]
     },
     "metadata": {},
     "output_type": "display_data"
    }
   ],
   "source": [
    "## comment the lines you do not need to generate your expected figure\n",
    "vis_data = f1scores\n",
    "# vis_data = accuracys\n",
    "fig = plt.plot(figsize=(30,30))\n",
    "\n",
    "\n",
    "plt.xlabel('Languages')\n",
    "plt.ylabel('F1-Score')\n",
    "plt.grid()\n",
    "plt.ylim([0.2, 1.01])\n",
    "colors = plt.cm.jet(np.linspace(0,1,7))\n",
    "xticks_labels = ['Java', 'Python', 'C++', 'Go', 'Java&JS', 'Java&Py&C++', 'NoJava', 'All']\n",
    "xticks(np.linspace(0, 7, 8, endpoint=True), xticks_labels, rotation=25)\n",
    "plt.plot(xticks_labels, vis_data[0,:], '-', color=colors[0],label=list(classifiers.keys())[0])\n",
    "plt.plot(xticks_labels, vis_data[1,:], '-', color=colors[1], label=list(classifiers.keys())[1])\n",
    "plt.plot(xticks_labels, vis_data[2,:], '-', color=colors[2], label=list(classifiers.keys())[2])\n",
    "plt.plot(xticks_labels, vis_data[3,:], '-', color=colors[3], label=list(classifiers.keys())[3])\n",
    "plt.plot(xticks_labels, vis_data[4,:], '-', color=colors[4], label=list(classifiers.keys())[4])\n",
    "plt.plot(xticks_labels, vis_data[5,:], '-', color=colors[5], label=list(classifiers.keys())[5])\n",
    "plt.plot(xticks_labels, vis_data[6,:], '-', color=colors[6], label=list(classifiers.keys())[6])\n",
    "\n",
    "\n",
    "plt.title('F1-Scores of different classifiers on our dataset')\n",
    "plt.legend()\n",
    "plt.show()"
   ]
  }
 ],
 "metadata": {
  "kernelspec": {
   "display_name": "ENV",
   "language": "python",
   "name": "python3"
  },
  "language_info": {
   "codemirror_mode": {
    "name": "ipython",
    "version": 3
   },
   "file_extension": ".py",
   "mimetype": "text/x-python",
   "name": "python",
   "nbconvert_exporter": "python",
   "pygments_lexer": "ipython3",
   "version": "3.11.6"
  }
 },
 "nbformat": 4,
 "nbformat_minor": 2
}
