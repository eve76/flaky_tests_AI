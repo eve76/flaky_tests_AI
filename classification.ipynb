{
 "cells": [
  {
   "cell_type": "code",
   "execution_count": 1,
   "metadata": {},
   "outputs": [],
   "source": [
    "import pandas as pd \n",
    "import numpy as np\n",
    "import time\n",
    "import re\n",
    "from sklearn.feature_extraction.text import TfidfVectorizer\n",
    "import pickle\n",
    "from sklearn.ensemble import RandomForestClassifier\n",
    "from sklearn.neighbors import KNeighborsClassifier\n",
    "from sklearn.linear_model import LogisticRegression, Perceptron\n",
    "from sklearn.tree import DecisionTreeClassifier\n",
    "from sklearn.metrics import f1_score, confusion_matrix\n",
    "from sklearn.model_selection import train_test_split, cross_val_score, cross_val_predict\n",
    "from sklearn.naive_bayes import GaussianNB\n",
    "from sklearn.discriminant_analysis import LinearDiscriminantAnalysis\n",
    "from sklearn.model_selection import learning_curve\n",
    "from sklearn.metrics import classification_report, roc_auc_score, matthews_corrcoef\n",
    "from sklearn.metrics import ConfusionMatrixDisplay\n",
    "from sklearn.svm import LinearSVC,SVR\n",
    "from sklearn.feature_selection import RFECV\n",
    "from sklearn.calibration import CalibratedClassifierCV\n",
    "from sklearn.preprocessing import Binarizer\n",
    "import matplotlib.pyplot as plt\n",
    "from pylab import xticks, yticks\n",
    "from sklearn.calibration import calibration_curve\n"
   ]
  },
  {
   "cell_type": "code",
   "execution_count": 2,
   "metadata": {},
   "outputs": [],
   "source": [
    "import warnings\n",
    "warnings.filterwarnings('ignore')"
   ]
  },
  {
   "cell_type": "code",
   "execution_count": 3,
   "metadata": {},
   "outputs": [],
   "source": [
    "# some utils functions\n",
    "\n",
    "## remove stopwords (some words are meaningless in classification, like function, test)\n",
    "def remove_stopwords(text):\n",
    "    text = str(text).lower().strip()\n",
    "    tokens = []\n",
    "    for token in text:\n",
    "        if token not in stop_words:\n",
    "            tokens.append(token)\n",
    "            \n",
    "    return \"\".join(tokens)\n",
    "\n",
    "def remove_comments(text):\n",
    "    no_comments = re.sub(r'#.*', '', text)\n",
    "    no_comments = re.sub(r'/\\*.*\\/\\*', '', no_comments)\n",
    "    no_comments = re.sub(r'\\d+','',no_comments)\n",
    "    no_comments = re.sub(r'_', ' ', no_comments)\n",
    "    no_comments = re.sub(r'[][@$%:!#~/\\\\?*\"\"()={}''<>.+-;]','', no_comments)\n",
    "    return no_comments\n",
    "\n",
    "def remove_cammel(text):\n",
    "    no_cammel = re.sub('([A-Z][a-z]+)', r' \\1', re.sub('([A-Z]+)', r' \\1', text)).lower().split()\n",
    "    return no_cammel"
   ]
  },
  {
   "cell_type": "code",
   "execution_count": 4,
   "metadata": {},
   "outputs": [],
   "source": [
    "\n",
    "stop_words = ['main', 'new', 'subtest','mock','test','public','void','init', 'class', 'name', 'com', 'is', 'prepare',\\\n",
    "    'it', 'cn', 'com', 'runtests', 'testing', 'fuc','tests', 'atomic','ca','bs', 'dc','this', 'on', 'std', 'flaky', 'we',\\\n",
    "    'auto', 'it', 'to','def', 'self', 'base', 'left', 'hello', 'block', 'cli', 'all', 'from', 'import', 'id', 'result', \\\n",
    "    'run', 'cmd','mock','xd', 'yoda','country', 'class', 'out', 'this', 'on', 'std', 'flaky', 'we', 'auto','size', 'not', 'by', \\\n",
    "    'be','activejobs','back']\n",
    "\n",
    "# describe the classifiers and parameters\n",
    "classifiers = {\n",
    "    'randomForest': RandomForestClassifier(random_state=1),\n",
    "    'decisionTree': DecisionTreeClassifier(min_samples_leaf=1),\n",
    "    'naiveBayes': GaussianNB(),\n",
    "    'smo': CalibratedClassifierCV(LinearSVC(fit_intercept=False, tol=0.001, C=1, dual=False, max_iter=100000), method='sigmoid'),\n",
    "    'knn': KNeighborsClassifier(n_neighbors=1, metric='euclidean'),\n",
    "    'logisticRegression': LogisticRegression(max_iter=1000),\n",
    "    'perceptron': CalibratedClassifierCV(Perceptron()),\n",
    "    'lda': LinearDiscriminantAnalysis(),\n",
    "}\n",
    "\n",
    "## cross validation classification\n",
    "def classify_with_cv(classifiers,x, y, random_state=123, cv = None, shuffle=True, normalize=[]):\n",
    "    \n",
    "    labels = ['Flaky', 'NonFlaky']\n",
    "    results = pd.DataFrame()\n",
    "    \n",
    "    scaler = Binarizer(threshold=0.0,).fit(x)\n",
    "    x_norm = scaler.transform(x)\n",
    "    \n",
    "    for key, classifier in classifiers.items():\n",
    "        if (key in normalize):\n",
    "            x = x_norm\n",
    "         \n",
    "        # classifier.fit(x_train, y_train)\n",
    "        # classifier.score(x_test, y_test)\n",
    "        score = cross_val_score(classifier, x, y, cv = cv, scoring='accuracy')\n",
    "        predict = cross_val_predict(classifier, x, y, cv=cv, method='predict')\n",
    "        # y_probs = classifier.predict_proba(x_test)[:,1]\n",
    "        \n",
    "        result = {\n",
    "                'classifier': key,\n",
    "                'f1score': f1_score(y, predict, average='weighted'),\n",
    "                'accuracy': np.mean(score),\n",
    "                'confusionMatrix': confusion_matrix(y, predict),\n",
    "                # 'execution': round_float(get_time(start_time)),\n",
    "                'classificationReport': classification_report(y, predict, output_dict=True),\n",
    "                # 'AUC': roc_auc_score(y_test, y_probs),\n",
    "                'MCC': matthews_corrcoef(y, predict),\n",
    "                \n",
    "            }\n",
    "            # results = pd.concat([results, result], ignore_index=True)\n",
    "        # print( result)\n",
    "        # print('\\n')\n",
    "        results = results._append(result, ignore_index=True)\n",
    "        \n",
    "        \n",
    "    return results\n",
    "\n",
    "### feature importance selection\n",
    "def feature_importance(x, y):\n",
    "    \n",
    "    estimator = RandomForestClassifier(random_state=123)\n",
    "    estimator.fit(x, y)\n",
    "    importance = estimator.feature_importances_\n",
    "    \n",
    "    return importance\n",
    "\n",
    "\n",
    "def classify(x_train, x_test, y_train, y_test, classifiers, normalize=[]):\n",
    "    \n",
    "    labels = ['Flaky', 'NonFlaky']\n",
    "    results = pd.DataFrame()\n",
    "    \n",
    "    comparison_values = {}\n",
    "    \n",
    "    # create a normalized version\n",
    "    train_scaler = Binarizer(threshold=0.0,).fit(x_train)\n",
    "    test_scaler = Binarizer(threshold=0.0).fit(x_test)\n",
    "    x_train_norm = train_scaler.transform(x_train)\n",
    "    x_test_norm = test_scaler.transform(x_test)\n",
    "    \n",
    "    for key, classifier in classifiers.items():\n",
    "        \n",
    "        x_train_exec = x_train \n",
    "        x_test_exec = x_test\n",
    "        y_train_exec = y_train\n",
    "        y_test_exec = y_test\n",
    "        \n",
    "        if (key in normalize):\n",
    "            x_train_exec = x_train_norm\n",
    "            x_test_exec = x_test_exec\n",
    "        \n",
    "        classifier.fit(x_train_exec, y_train)\n",
    "        classifier.score(x_test_exec, y_test)\n",
    "        \n",
    "        predict = classifier.predict(x_test_exec)\n",
    "        y_probs = classifier.predict_proba(x_test_exec)[:,1]\n",
    "        \n",
    "        \n",
    "        result = {\n",
    "            'classifier': key,\n",
    "            'f1score': f1_score(y_test, predict, average='weighted'),\n",
    "            'accuracy': classifier.score(x_test_exec, y_test),\n",
    "            'confusionMatrix': confusion_matrix(y_test, predict),\n",
    "            'classificationReport': classification_report(y_test, predict, output_dict=True),\n",
    "            'AUC': roc_auc_score(y_test, y_probs),\n",
    "            'MCC': matthews_corrcoef(y_test, predict),\n",
    "            \n",
    "        }\n",
    "\n",
    "        results = results._append(result, ignore_index=True)\n",
    "\n",
    "    \n",
    "    return results    "
   ]
  },
  {
   "cell_type": "code",
   "execution_count": 5,
   "metadata": {},
   "outputs": [],
   "source": [
    "### load data\n",
    "\n",
    "data = pd.read_excel('./flaky_data.xlsx')\n",
    "df = pd.DataFrame(data, columns=['Language', 'project name', 'test case name', 'label','test case content', 'tokens'])\n",
    "\n",
    "# drop columns \"project name\" and \"test case name\"\n",
    "df.drop('project name', axis=1, inplace=True)\n",
    "df.drop('test case name', axis=1, inplace=True)"
   ]
  },
  {
   "cell_type": "code",
   "execution_count": 6,
   "metadata": {},
   "outputs": [],
   "source": [
    "### preprocessing of test case content\n",
    "\n",
    "df['test case content'] = df['test case content'].apply(lambda x: remove_comments(x))\n",
    "df['test case content'] = df['test case content'].apply(lambda x: remove_cammel(x))\n",
    "\n",
    "\n",
    "### create a tokens column for the processed text\n",
    "\n",
    "df['tokens'] = df['test case content']"
   ]
  },
  {
   "cell_type": "code",
   "execution_count": 7,
   "metadata": {},
   "outputs": [],
   "source": [
    "### init tokenizer and fit \n",
    "\n",
    "tokenizer = TfidfVectorizer(analyzer='word', max_features=1500,stop_words=stop_words)\n",
    "\n",
    "    \n",
    "df.tokens = df.tokens.apply(lambda x: remove_stopwords(x))\n",
    "bow_token = tokenizer.fit_transform(df.tokens)\n",
    "\n",
    "bow_data = pd.DataFrame(bow_token.toarray(), columns=tokenizer.get_feature_names_out())\n"
   ]
  },
  {
   "cell_type": "code",
   "execution_count": 8,
   "metadata": {},
   "outputs": [],
   "source": [
    "y = df.label.copy()\n",
    "df = pd.concat([df, bow_data], axis=1)\n",
    "df.label = y"
   ]
  },
  {
   "cell_type": "code",
   "execution_count": 9,
   "metadata": {},
   "outputs": [],
   "source": [
    "### filter the dataset according to languages\n",
    "\n",
    "java_df = df[df['Language'] == 'Java']\n",
    "python_df = df[df['Language'] == 'Python']\n",
    "go_df = df[df['Language'] == 'go']\n",
    "cpp_df = df[df['Language'] == 'C++']\n",
    "js_df = df[df['Language'] == 'JS']"
   ]
  },
  {
   "cell_type": "code",
   "execution_count": 10,
   "metadata": {},
   "outputs": [],
   "source": [
    "java_js_df = df[df['Language'].isin(['Java', 'JS'])]\n",
    "java_py_cpp = df[df['Language'].isin(['Java', 'Python', 'C++'])]\n",
    "no_java = df[~df['Language'].isin(['Java'])]"
   ]
  },
  {
   "cell_type": "code",
   "execution_count": 11,
   "metadata": {},
   "outputs": [],
   "source": [
    "\n",
    "java_y = java_df.iloc[:, 1:2]\n",
    "java_x = java_df.drop(columns=['Language', 'label','label', 'test case content', 'tokens'])\n",
    "\n",
    "python_y = python_df.iloc[:, 1:2]\n",
    "python_x = python_df.drop(['Language', 'label', 'label','test case content', 'tokens'], axis=1)\n",
    "\n",
    "cpp_y = cpp_df.iloc[:, 1:2]\n",
    "cpp_x = cpp_df.drop(['Language', 'label', 'label','test case content', 'tokens'], axis=1)\n",
    "\n",
    "go_y = go_df.iloc[:, 1:2]\n",
    "go_x = go_df.drop(['Language', 'label', 'label','test case content', 'tokens'], axis=1)\n",
    "\n",
    "js_y = js_df.iloc[:, 1:2]\n",
    "js_x = js_df.drop(['Language', 'label', 'label','test case content', 'tokens'], axis=1)\n",
    "\n",
    "java_js_y = java_js_df.iloc[:, 1:2]\n",
    "java_js_x = java_js_df.drop(columns=['Language', 'label','label', 'test case content', 'tokens'])\n",
    "\n",
    "java_py_cpp_y = java_py_cpp.iloc[:, 1:2]\n",
    "java_py_cpp_x = java_py_cpp.drop(columns=['Language', 'label','label', 'test case content', 'tokens'])\n",
    "\n",
    "no_java_y = no_java.iloc[:, 1:2]\n",
    "no_java_x = no_java.drop(columns=['Language', 'label','label', 'test case content', 'tokens'])\n",
    "\n",
    "all_y = df.iloc[:, 1:2]\n",
    "all_x = df.drop(columns=['Language', 'label','label', 'test case content', 'tokens'])"
   ]
  },
  {
   "cell_type": "code",
   "execution_count": 12,
   "metadata": {},
   "outputs": [
    {
     "name": "stdout",
     "output_type": "stream",
     "text": [
      "The top 20 features in Projects are:\n",
      " Index(['throws', 'exception', 'should', 'io', 'equal', 'error', 'int', 'build',\n",
      "       'for', 'resource', 'assert', 'thrownexpect', 'inode', 'description',\n",
      "       'column', 'property', 'message', 'finally', 'http', 'if'],\n",
      "      dtype='object')\n"
     ]
    }
   ],
   "source": [
    "java_importance = feature_importance(java_x, java_y)\n",
    "print(\"The top 20 features in Projects are:\\n\", java_x.columns[np.argsort(-java_importance)[:20]])\n"
   ]
  },
  {
   "cell_type": "code",
   "execution_count": 13,
   "metadata": {},
   "outputs": [
    {
     "name": "stdout",
     "output_type": "stream",
     "text": [
      "The top 20 features in Projects are: \n",
      " Index(['true', 'model', 'assert', 'check', 'with', 'app', 'and', 'process',\n",
      "       'dict', 'appapp', 'context', 'equalerr', 'selfassert', 'batch', 'in',\n",
      "       'msgs', 'instanceerr', 'fake', 'equallenerr', 'err'],\n",
      "      dtype='object')\n"
     ]
    }
   ],
   "source": [
    "python_importance = feature_importance(python_x, python_y)\n",
    "print(\"The top 20 features in Projects are: \\n\", python_x.columns[np.argsort(-python_importance)[:20]])"
   ]
  },
  {
   "cell_type": "code",
   "execution_count": 14,
   "metadata": {},
   "outputs": [
    {
     "name": "stdout",
     "output_type": "stream",
     "text": [
      "The top 20 features in Projects are: \n",
      " Index(['string', 'case', 'chec', 'wait', 'and', 'op', 'disabled', 'get',\n",
      "       'expect', 'type', 'event', 'jobs', 'return', 'prob', 'const',\n",
      "       'character', 'in', 'manager', 'info', 'input'],\n",
      "      dtype='object')\n"
     ]
    }
   ],
   "source": [
    "cpp_importance = feature_importance(cpp_x, cpp_y)\n",
    "print(\"The top 20 features in Projects are: \\n\", cpp_x.columns[np.argsort(-cpp_importance)[:20]])"
   ]
  },
  {
   "cell_type": "code",
   "execution_count": 15,
   "metadata": {},
   "outputs": [
    {
     "name": "stdout",
     "output_type": "stream",
     "text": [
      "The top 20 features in Projects are: \n",
      " Index(['func', 'if', 'timeout', 'pod', 'time', 'true', 'fake', 'errort',\n",
      "       'file', 'expected', 'const', 'len', 'return', 'no', 'require', 'up',\n",
      "       'assert', 'esbuild', 'as', 'nil'],\n",
      "      dtype='object')\n"
     ]
    }
   ],
   "source": [
    "go_importance = feature_importance(go_x, go_y)\n",
    "print(\"The top 20 features in Projects are: \\n\", go_x.columns[np.argsort(-go_importance)[:20]])"
   ]
  },
  {
   "cell_type": "code",
   "execution_count": 16,
   "metadata": {},
   "outputs": [
    {
     "name": "stdout",
     "output_type": "stream",
     "text": [
      "The top 20 features in Projects are: \n",
      " Index(['throws', 'exception', 'should', 'io', 'equal', 'error', 'int', 'build',\n",
      "       'for', 'resource', 'assert', 'thrownexpect', 'inode', 'description',\n",
      "       'column', 'property', 'message', 'finally', 'http', 'if'],\n",
      "      dtype='object')\n"
     ]
    }
   ],
   "source": [
    "java_js_importance = feature_importance(java_js_x, java_js_y)\n",
    "print(\"The top 20 features in Projects are: \\n\", java_js_x.columns[np.argsort(-java_importance)[:20]])"
   ]
  },
  {
   "cell_type": "code",
   "execution_count": 17,
   "metadata": {},
   "outputs": [
    {
     "name": "stdout",
     "output_type": "stream",
     "text": [
      "The top 20 features in Projects are: \n",
      " Index(['throws', 'exception', 'should', 'io', 'error', 'equal', 'int',\n",
      "       'resource', 'for', 'build', 'inode', 'assert', 'description', 'column',\n",
      "       'byte', 'string', 'selfassert', 'table', 'message', 'http'],\n",
      "      dtype='object')\n"
     ]
    }
   ],
   "source": [
    "java_py_cpp_importance = feature_importance(java_py_cpp_x, java_py_cpp_y)\n",
    "print(\"The top 20 features in Projects are: \\n\", java_py_cpp_x.columns[np.argsort(-java_py_cpp_importance)[:20]])"
   ]
  },
  {
   "cell_type": "code",
   "execution_count": 18,
   "metadata": {},
   "outputs": [
    {
     "name": "stdout",
     "output_type": "stream",
     "text": [
      "The top 20 features in Projects are: \n",
      " Index(['string', 'case', 'in', 'true', 'func', 'chec', 'assert', 'function',\n",
      "       'check', 'with', 'selfassert', 'config', 'context', 'get', 'false',\n",
      "       'unittest', 'err', 'query', 'https', 'instanceerr'],\n",
      "      dtype='object')\n"
     ]
    }
   ],
   "source": [
    "no_java_importance = feature_importance(no_java_x, no_java_y)\n",
    "print(\"The top 20 features in Projects are: \\n\", no_java_x.columns[np.argsort(-no_java_importance)[:20]])"
   ]
  },
  {
   "cell_type": "code",
   "execution_count": 19,
   "metadata": {},
   "outputs": [
    {
     "name": "stdout",
     "output_type": "stream",
     "text": [
      "The top 20 features in Projects are: \n",
      " Index(['throws', 'exception', 'should', 'io', 'equal', 'for', 'error', 'int',\n",
      "       'string', 'assert', 'build', 'selfassert', 'description', 'resource',\n",
      "       'in', 'type', 'column', 'inode', 'byte', 'message'],\n",
      "      dtype='object')\n"
     ]
    }
   ],
   "source": [
    "all_importance = feature_importance(all_x, all_y)\n",
    "print(\"The top 20 features in Projects are: \\n\", all_x.columns[np.argsort(-all_importance)[:20]])"
   ]
  },
  {
   "cell_type": "code",
   "execution_count": 20,
   "metadata": {},
   "outputs": [],
   "source": [
    "java_results = classify_with_cv(classifiers, java_x, java_y, cv=10, normalize=['knn'])\n",
    "python_results = classify_with_cv(classifiers, python_x, python_y, cv=10, normalize=['knn'])\n",
    "cpp_results = classify_with_cv(classifiers, cpp_x, cpp_y, cv=10, normalize=['knn'])\n",
    "go_results = classify_with_cv(classifiers, go_x, go_y, cv=10, normalize=['knn'])\n",
    "java_js_results = classify_with_cv(classifiers, java_js_x, java_js_y, cv=10, normalize=['knn'])\n",
    "java_py_cpp_results = classify_with_cv(classifiers, java_py_cpp_x, java_py_cpp_y, cv=10, normalize=['knn'])\n",
    "nojava_results = classify_with_cv(classifiers, no_java_x, no_java_y, cv=10, normalize=['knn'])\n",
    "all_results = classify_with_cv(classifiers, all_x, all_y, cv=10, normalize=['knn'])"
   ]
  },
  {
   "cell_type": "code",
   "execution_count": 21,
   "metadata": {},
   "outputs": [],
   "source": [
    "output = pd.concat([java_results, python_results, cpp_results, go_results, java_js_results, java_py_cpp_results, nojava_results, all_results], axis=0)\n",
    "output.to_excel('./output_results.xlsx')"
   ]
  },
  {
   "cell_type": "code",
   "execution_count": 22,
   "metadata": {},
   "outputs": [],
   "source": [
    "f1scores = np.array([java_results.f1score, python_results.f1score, cpp_results.f1score, go_results.f1score, \n",
    "                     java_js_results.f1score, java_py_cpp_results.f1score, nojava_results.f1score, all_results.f1score])\n",
    "accuracys = np.array([java_results.accuracy, python_results.accuracy, cpp_results.accuracy, go_results.accuracy, \n",
    "                     java_js_results.accuracy, java_py_cpp_results.accuracy, nojava_results.accuracy, all_results.accuracy])"
   ]
  },
  {
   "cell_type": "code",
   "execution_count": 23,
   "metadata": {},
   "outputs": [
    {
     "data": {
      "image/png": "[encoded data removed]",
      "text/plain": [
       "<Figure size 640x480 with 1 Axes>"
      ]
     },
     "metadata": {},
     "output_type": "display_data"
    }
   ],
   "source": [
    "## comment the lines you do not need to generate your expected figure\n",
    "vis_data = f1scores\n",
    "# vis_data = accuracys\n",
    "fig = plt.plot(figsize=(30,30))\n",
    "\n",
    "\n",
    "plt.xlabel('Languages')\n",
    "plt.ylabel('F1-Score')\n",
    "plt.grid()\n",
    "plt.ylim([0.2, 1.01])\n",
    "colors = plt.cm.jet(np.linspace(0,1,7))\n",
    "xticks_labels = ['Java', 'Python', 'C++', 'Go', 'Java&JS', 'Java&Py&C++', 'NoJava', 'All']\n",
    "xticks(np.linspace(0, 7, 8, endpoint=True), xticks_labels, rotation=25)\n",
    "plt.plot(xticks_labels, vis_data[0,:], '-', color=colors[0],label=list(classifiers.keys())[0])\n",
    "plt.plot(xticks_labels, vis_data[1,:], '-', color=colors[1], label=list(classifiers.keys())[1])\n",
    "plt.plot(xticks_labels, vis_data[2,:], '-', color=colors[2], label=list(classifiers.keys())[2])\n",
    "plt.plot(xticks_labels, vis_data[3,:], '-', color=colors[3], label=list(classifiers.keys())[3])\n",
    "plt.plot(xticks_labels, vis_data[4,:], '-', color=colors[4], label=list(classifiers.keys())[4])\n",
    "plt.plot(xticks_labels, vis_data[5,:], '-', color=colors[5], label=list(classifiers.keys())[5])\n",
    "plt.plot(xticks_labels, vis_data[6,:], '-', color=colors[6], label=list(classifiers.keys())[6])\n",
    "\n",
    "\n",
    "plt.title('F1-Scores of different classifiers on our dataset')\n",
    "plt.legend()\n",
    "plt.show()"
   ]
  },
  {
   "cell_type": "code",
   "execution_count": 24,
   "metadata": {},
   "outputs": [],
   "source": [
    "def train_test_split_classify(x, y, test_size):\n",
    "    # x_train, x_test, y_train, y_test, classifiers, normalize=[]\n",
    "    x_train, x_test, y_train, y_test = train_test_split(x, y, test_size=test_size, random_state=123)\n",
    "    results = classify(x_train, x_test, y_train, y_test, classifiers, normalize=['knn'])\n",
    "    \n",
    "    return results\n",
    "    "
   ]
  },
  {
   "cell_type": "code",
   "execution_count": 25,
   "metadata": {},
   "outputs": [],
   "source": [
    "java_8_2_results = train_test_split_classify(java_x, java_y, 0.2)\n",
    "python_8_2_results = train_test_split_classify(python_x, python_y, 0.2)\n",
    "cpp_8_2_results = train_test_split_classify(cpp_x, cpp_y, 0.2)\n",
    "go_8_2_results = train_test_split_classify(go_x, go_y, 0.2)\n",
    "java_js_8_2_results = train_test_split_classify(java_js_x, java_js_y, 0.2)\n",
    "java_py_cpp_8_2_results = train_test_split_classify(java_py_cpp_x, java_py_cpp_y, 0.2)\n",
    "nojava_8_2_results = train_test_split_classify(no_java_x, no_java_y, 0.2)\n",
    "all_8_2_results = train_test_split_classify(all_x, all_y, 0.2)"
   ]
  },
  {
   "cell_type": "code",
   "execution_count": 26,
   "metadata": {},
   "outputs": [],
   "source": [
    "java_7_2_results = train_test_split_classify(java_x, java_y, 0.3)\n",
    "python_7_2_results = train_test_split_classify(python_x, python_y, 0.3)\n",
    "cpp_7_2_results = train_test_split_classify(cpp_x, cpp_y, 0.3)\n",
    "go_7_2_results = train_test_split_classify(go_x, go_y, 0.3)\n",
    "java_js_7_2_results = train_test_split_classify(java_js_x, java_js_y, 0.3)\n",
    "java_py_cpp_7_2_results = train_test_split_classify(java_py_cpp_x, java_py_cpp_y, 0.3)\n",
    "nojava_7_2_results = train_test_split_classify(no_java_x, no_java_y, 0.3)\n",
    "all_7_2_results = train_test_split_classify(all_x, all_y, 0.3)"
   ]
  },
  {
   "cell_type": "code",
   "execution_count": 27,
   "metadata": {},
   "outputs": [],
   "source": [
    "output_8_2 = pd.concat([java_8_2_results, python_8_2_results, cpp_8_2_results, go_8_2_results, java_js_8_2_results, java_py_cpp_8_2_results, nojava_8_2_results, all_8_2_results], axis=0)\n",
    "# output_8_2.to_excel('./output_8_2_results.xlsx')"
   ]
  },
  {
   "cell_type": "code",
   "execution_count": 28,
   "metadata": {},
   "outputs": [],
   "source": [
    "output_7_2 = pd.concat([java_7_2_results, python_7_2_results, cpp_7_2_results, go_7_2_results, java_js_7_2_results, java_py_cpp_7_2_results, nojava_7_2_results, all_7_2_results], axis=0)\n",
    "output_7_2.to_excel('./output_7_2_results1.xlsx')"
   ]
  }
 ],
 "metadata": {
  "kernelspec": {
   "display_name": "ENV",
   "language": "python",
   "name": "python3"
  },
  "language_info": {
   "codemirror_mode": {
    "name": "ipython",
    "version": 3
   },
   "file_extension": ".py",
   "mimetype": "text/x-python",
   "name": "python",
   "nbconvert_exporter": "python",
   "pygments_lexer": "ipython3",
   "version": "3.11.6"
  }
 },
 "nbformat": 4,
 "nbformat_minor": 2
}
